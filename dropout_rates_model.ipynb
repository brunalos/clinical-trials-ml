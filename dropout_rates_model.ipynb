{
 "cells": [
  {
   "cell_type": "code",
   "execution_count": 306,
   "metadata": {},
   "outputs": [],
   "source": [
    "# Import Python modules\n",
    "\n",
    "import pandas as pd\n",
    "import numpy as np\n",
    "import seaborn as sns\n",
    "import matplotlib.pyplot as plt\n",
    "\n",
    "# Machine learning modules\n",
    "\n",
    "from sklearn.model_selection import train_test_split, GridSearchCV, RandomizedSearchCV \n",
    "from sklearn.preprocessing import LabelEncoder, StandardScaler\n",
    "from sklearn.feature_selection import RFE\n",
    "from sklearn.linear_model import LinearRegression, Lasso, Ridge\n",
    "from sklearn.neighbors import KNeighborsRegressor\n",
    "from sklearn.tree import DecisionTreeRegressor\n",
    "from sklearn.ensemble import RandomForestRegressor\n",
    "from sklearn import tree\n",
    "from sklearn.metrics import mean_squared_error, mean_absolute_error, r2_score"
   ]
  },
  {
   "cell_type": "code",
   "execution_count": 307,
   "metadata": {},
   "outputs": [],
   "source": [
    "# Filter methods\n",
    "\n",
    "from sklearn.feature_selection import VarianceThreshold\n",
    "from sklearn.feature_selection import f_regression\n",
    "from sklearn.feature_selection import mutual_info_regression\n",
    "from sklearn.feature_selection import SelectKBest\n",
    "from functools import partial"
   ]
  },
  {
   "cell_type": "markdown",
   "metadata": {},
   "source": [
    "### Preprocessing the Data for Machine Learning Models\n",
    "\n",
    "1. **Data Encoding:**\n",
    "   - Encode categorical variables into numerical representations using techniques like one-hot encoding or label encoding.\n",
    "\n",
    "2. **Normalization and Scaling:**\n",
    "   - Normalize or scale numerical features to ensure uniformity and improve model performance.\n",
    "   - Techniques include Min-Max scaling or Standardization.\n",
    "\n",
    "3. **Feature Selection Methods**\n",
    "    - Techniques include: filter, wrapper, and embedded methods.\n",
    "\n",
    "4. **Data Splitting:**\n",
    "   - Split the dataset into training and testing sets for machine learning models."
   ]
  },
  {
   "cell_type": "code",
   "execution_count": 308,
   "metadata": {},
   "outputs": [
    {
     "data": {
      "text/html": [
       "<div>\n",
       "<style scoped>\n",
       "    .dataframe tbody tr th:only-of-type {\n",
       "        vertical-align: middle;\n",
       "    }\n",
       "\n",
       "    .dataframe tbody tr th {\n",
       "        vertical-align: top;\n",
       "    }\n",
       "\n",
       "    .dataframe thead th {\n",
       "        text-align: right;\n",
       "    }\n",
       "</style>\n",
       "<table border=\"1\" class=\"dataframe\">\n",
       "  <thead>\n",
       "    <tr style=\"text-align: right;\">\n",
       "      <th></th>\n",
       "      <th>nct_id</th>\n",
       "      <th>phase</th>\n",
       "      <th>enrollment</th>\n",
       "      <th>condition_name</th>\n",
       "      <th>actual_duration</th>\n",
       "      <th>gender</th>\n",
       "      <th>dropout_rate</th>\n",
       "      <th>AE_total_serious</th>\n",
       "      <th>AE_total_other</th>\n",
       "    </tr>\n",
       "  </thead>\n",
       "  <tbody>\n",
       "    <tr>\n",
       "      <th>0</th>\n",
       "      <td>NCT00444951</td>\n",
       "      <td>Phase 3</td>\n",
       "      <td>450.0</td>\n",
       "      <td>infectious diseases</td>\n",
       "      <td>12.0</td>\n",
       "      <td>All</td>\n",
       "      <td>3.111111</td>\n",
       "      <td>1.0</td>\n",
       "      <td>1082.0</td>\n",
       "    </tr>\n",
       "    <tr>\n",
       "      <th>1</th>\n",
       "      <td>NCT00623831</td>\n",
       "      <td>Phase 1</td>\n",
       "      <td>17.0</td>\n",
       "      <td>cancer</td>\n",
       "      <td>60.0</td>\n",
       "      <td>All</td>\n",
       "      <td>11.764706</td>\n",
       "      <td>3.0</td>\n",
       "      <td>100.0</td>\n",
       "    </tr>\n",
       "    <tr>\n",
       "      <th>2</th>\n",
       "      <td>NCT00434577</td>\n",
       "      <td>Phase 2</td>\n",
       "      <td>715.0</td>\n",
       "      <td>infectious diseases</td>\n",
       "      <td>7.0</td>\n",
       "      <td>All</td>\n",
       "      <td>1.818182</td>\n",
       "      <td>349.0</td>\n",
       "      <td>1716.0</td>\n",
       "    </tr>\n",
       "    <tr>\n",
       "      <th>3</th>\n",
       "      <td>NCT00616421</td>\n",
       "      <td>Phase 3</td>\n",
       "      <td>2907.0</td>\n",
       "      <td>infectious diseases</td>\n",
       "      <td>13.0</td>\n",
       "      <td>All</td>\n",
       "      <td>3.611971</td>\n",
       "      <td>119.0</td>\n",
       "      <td>4625.0</td>\n",
       "    </tr>\n",
       "    <tr>\n",
       "      <th>4</th>\n",
       "      <td>NCT04515147</td>\n",
       "      <td>Phase 2</td>\n",
       "      <td>668.0</td>\n",
       "      <td>infectious diseases</td>\n",
       "      <td>17.0</td>\n",
       "      <td>All</td>\n",
       "      <td>8.532934</td>\n",
       "      <td>140.0</td>\n",
       "      <td>3398.0</td>\n",
       "    </tr>\n",
       "  </tbody>\n",
       "</table>\n",
       "</div>"
      ],
      "text/plain": [
       "        nct_id    phase  enrollment       condition_name  actual_duration  \\\n",
       "0  NCT00444951  Phase 3       450.0  infectious diseases             12.0   \n",
       "1  NCT00623831  Phase 1        17.0               cancer             60.0   \n",
       "2  NCT00434577  Phase 2       715.0  infectious diseases              7.0   \n",
       "3  NCT00616421  Phase 3      2907.0  infectious diseases             13.0   \n",
       "4  NCT04515147  Phase 2       668.0  infectious diseases             17.0   \n",
       "\n",
       "  gender  dropout_rate  AE_total_serious  AE_total_other  \n",
       "0    All      3.111111               1.0          1082.0  \n",
       "1    All     11.764706               3.0           100.0  \n",
       "2    All      1.818182             349.0          1716.0  \n",
       "3    All      3.611971             119.0          4625.0  \n",
       "4    All      8.532934             140.0          3398.0  "
      ]
     },
     "execution_count": 308,
     "metadata": {},
     "output_type": "execute_result"
    }
   ],
   "source": [
    "# Read ML file\n",
    "file_path = './data/vax_trials_ml_df.csv'\n",
    "df_ml = pd.read_csv(file_path)\n",
    "\n",
    "# Display the DataFrame\n",
    "df_ml.head()"
   ]
  },
  {
   "cell_type": "markdown",
   "metadata": {},
   "source": [
    "- Data encoding: \n",
    "\n",
    "    - clinical trial phase\n",
    "    - gender"
   ]
  },
  {
   "cell_type": "code",
   "execution_count": 309,
   "metadata": {},
   "outputs": [
    {
     "data": {
      "text/html": [
       "<div>\n",
       "<style scoped>\n",
       "    .dataframe tbody tr th:only-of-type {\n",
       "        vertical-align: middle;\n",
       "    }\n",
       "\n",
       "    .dataframe tbody tr th {\n",
       "        vertical-align: top;\n",
       "    }\n",
       "\n",
       "    .dataframe thead th {\n",
       "        text-align: right;\n",
       "    }\n",
       "</style>\n",
       "<table border=\"1\" class=\"dataframe\">\n",
       "  <thead>\n",
       "    <tr style=\"text-align: right;\">\n",
       "      <th></th>\n",
       "      <th>nct_id</th>\n",
       "      <th>phase</th>\n",
       "      <th>enrollment</th>\n",
       "      <th>condition_name</th>\n",
       "      <th>actual_duration</th>\n",
       "      <th>gender</th>\n",
       "      <th>dropout_rate</th>\n",
       "      <th>AE_total_serious</th>\n",
       "      <th>AE_total_other</th>\n",
       "      <th>phase_encoded</th>\n",
       "    </tr>\n",
       "  </thead>\n",
       "  <tbody>\n",
       "    <tr>\n",
       "      <th>0</th>\n",
       "      <td>NCT00444951</td>\n",
       "      <td>Phase 3</td>\n",
       "      <td>450.0</td>\n",
       "      <td>infectious diseases</td>\n",
       "      <td>12.0</td>\n",
       "      <td>All</td>\n",
       "      <td>3.111111</td>\n",
       "      <td>1.0</td>\n",
       "      <td>1082.0</td>\n",
       "      <td>6</td>\n",
       "    </tr>\n",
       "    <tr>\n",
       "      <th>1</th>\n",
       "      <td>NCT00623831</td>\n",
       "      <td>Phase 1</td>\n",
       "      <td>17.0</td>\n",
       "      <td>cancer</td>\n",
       "      <td>60.0</td>\n",
       "      <td>All</td>\n",
       "      <td>11.764706</td>\n",
       "      <td>3.0</td>\n",
       "      <td>100.0</td>\n",
       "      <td>2</td>\n",
       "    </tr>\n",
       "    <tr>\n",
       "      <th>2</th>\n",
       "      <td>NCT00434577</td>\n",
       "      <td>Phase 2</td>\n",
       "      <td>715.0</td>\n",
       "      <td>infectious diseases</td>\n",
       "      <td>7.0</td>\n",
       "      <td>All</td>\n",
       "      <td>1.818182</td>\n",
       "      <td>349.0</td>\n",
       "      <td>1716.0</td>\n",
       "      <td>4</td>\n",
       "    </tr>\n",
       "    <tr>\n",
       "      <th>3</th>\n",
       "      <td>NCT00616421</td>\n",
       "      <td>Phase 3</td>\n",
       "      <td>2907.0</td>\n",
       "      <td>infectious diseases</td>\n",
       "      <td>13.0</td>\n",
       "      <td>All</td>\n",
       "      <td>3.611971</td>\n",
       "      <td>119.0</td>\n",
       "      <td>4625.0</td>\n",
       "      <td>6</td>\n",
       "    </tr>\n",
       "    <tr>\n",
       "      <th>4</th>\n",
       "      <td>NCT04515147</td>\n",
       "      <td>Phase 2</td>\n",
       "      <td>668.0</td>\n",
       "      <td>infectious diseases</td>\n",
       "      <td>17.0</td>\n",
       "      <td>All</td>\n",
       "      <td>8.532934</td>\n",
       "      <td>140.0</td>\n",
       "      <td>3398.0</td>\n",
       "      <td>4</td>\n",
       "    </tr>\n",
       "  </tbody>\n",
       "</table>\n",
       "</div>"
      ],
      "text/plain": [
       "        nct_id    phase  enrollment       condition_name  actual_duration  \\\n",
       "0  NCT00444951  Phase 3       450.0  infectious diseases             12.0   \n",
       "1  NCT00623831  Phase 1        17.0               cancer             60.0   \n",
       "2  NCT00434577  Phase 2       715.0  infectious diseases              7.0   \n",
       "3  NCT00616421  Phase 3      2907.0  infectious diseases             13.0   \n",
       "4  NCT04515147  Phase 2       668.0  infectious diseases             17.0   \n",
       "\n",
       "  gender  dropout_rate  AE_total_serious  AE_total_other  phase_encoded  \n",
       "0    All      3.111111               1.0          1082.0              6  \n",
       "1    All     11.764706               3.0           100.0              2  \n",
       "2    All      1.818182             349.0          1716.0              4  \n",
       "3    All      3.611971             119.0          4625.0              6  \n",
       "4    All      8.532934             140.0          3398.0              4  "
      ]
     },
     "execution_count": 309,
     "metadata": {},
     "output_type": "execute_result"
    }
   ],
   "source": [
    "# Define mapping for phase categories to numerical values\n",
    "phase_mapping = {\n",
    "    'Early Phase 1': 1,\n",
    "    'Phase 1': 2,\n",
    "    'Phase 1/Phase 2': 3,\n",
    "    'Phase 2': 4,\n",
    "    'Phase 2/Phase 3': 5,\n",
    "    'Phase 3': 6,\n",
    "    'Phase 4': 7,\n",
    "    'Not Applicable': 0\n",
    "}\n",
    "\n",
    "# Map the 'phase' column to numerical values\n",
    "df_ml['phase_encoded'] = df_ml['phase'].map(phase_mapping)\n",
    "\n",
    "# Display df\n",
    "df_ml.head()"
   ]
  },
  {
   "cell_type": "code",
   "execution_count": 310,
   "metadata": {},
   "outputs": [
    {
     "data": {
      "text/html": [
       "<div>\n",
       "<style scoped>\n",
       "    .dataframe tbody tr th:only-of-type {\n",
       "        vertical-align: middle;\n",
       "    }\n",
       "\n",
       "    .dataframe tbody tr th {\n",
       "        vertical-align: top;\n",
       "    }\n",
       "\n",
       "    .dataframe thead th {\n",
       "        text-align: right;\n",
       "    }\n",
       "</style>\n",
       "<table border=\"1\" class=\"dataframe\">\n",
       "  <thead>\n",
       "    <tr style=\"text-align: right;\">\n",
       "      <th></th>\n",
       "      <th>nct_id</th>\n",
       "      <th>phase</th>\n",
       "      <th>enrollment</th>\n",
       "      <th>condition_name</th>\n",
       "      <th>actual_duration</th>\n",
       "      <th>gender</th>\n",
       "      <th>dropout_rate</th>\n",
       "      <th>AE_total_serious</th>\n",
       "      <th>AE_total_other</th>\n",
       "      <th>phase_encoded</th>\n",
       "      <th>gender_encoded</th>\n",
       "    </tr>\n",
       "  </thead>\n",
       "  <tbody>\n",
       "    <tr>\n",
       "      <th>0</th>\n",
       "      <td>NCT00444951</td>\n",
       "      <td>Phase 3</td>\n",
       "      <td>450.0</td>\n",
       "      <td>infectious diseases</td>\n",
       "      <td>12.0</td>\n",
       "      <td>All</td>\n",
       "      <td>3.111111</td>\n",
       "      <td>1.0</td>\n",
       "      <td>1082.0</td>\n",
       "      <td>6</td>\n",
       "      <td>0</td>\n",
       "    </tr>\n",
       "    <tr>\n",
       "      <th>1</th>\n",
       "      <td>NCT00623831</td>\n",
       "      <td>Phase 1</td>\n",
       "      <td>17.0</td>\n",
       "      <td>cancer</td>\n",
       "      <td>60.0</td>\n",
       "      <td>All</td>\n",
       "      <td>11.764706</td>\n",
       "      <td>3.0</td>\n",
       "      <td>100.0</td>\n",
       "      <td>2</td>\n",
       "      <td>0</td>\n",
       "    </tr>\n",
       "    <tr>\n",
       "      <th>2</th>\n",
       "      <td>NCT00434577</td>\n",
       "      <td>Phase 2</td>\n",
       "      <td>715.0</td>\n",
       "      <td>infectious diseases</td>\n",
       "      <td>7.0</td>\n",
       "      <td>All</td>\n",
       "      <td>1.818182</td>\n",
       "      <td>349.0</td>\n",
       "      <td>1716.0</td>\n",
       "      <td>4</td>\n",
       "      <td>0</td>\n",
       "    </tr>\n",
       "    <tr>\n",
       "      <th>3</th>\n",
       "      <td>NCT00616421</td>\n",
       "      <td>Phase 3</td>\n",
       "      <td>2907.0</td>\n",
       "      <td>infectious diseases</td>\n",
       "      <td>13.0</td>\n",
       "      <td>All</td>\n",
       "      <td>3.611971</td>\n",
       "      <td>119.0</td>\n",
       "      <td>4625.0</td>\n",
       "      <td>6</td>\n",
       "      <td>0</td>\n",
       "    </tr>\n",
       "    <tr>\n",
       "      <th>4</th>\n",
       "      <td>NCT04515147</td>\n",
       "      <td>Phase 2</td>\n",
       "      <td>668.0</td>\n",
       "      <td>infectious diseases</td>\n",
       "      <td>17.0</td>\n",
       "      <td>All</td>\n",
       "      <td>8.532934</td>\n",
       "      <td>140.0</td>\n",
       "      <td>3398.0</td>\n",
       "      <td>4</td>\n",
       "      <td>0</td>\n",
       "    </tr>\n",
       "  </tbody>\n",
       "</table>\n",
       "</div>"
      ],
      "text/plain": [
       "        nct_id    phase  enrollment       condition_name  actual_duration  \\\n",
       "0  NCT00444951  Phase 3       450.0  infectious diseases             12.0   \n",
       "1  NCT00623831  Phase 1        17.0               cancer             60.0   \n",
       "2  NCT00434577  Phase 2       715.0  infectious diseases              7.0   \n",
       "3  NCT00616421  Phase 3      2907.0  infectious diseases             13.0   \n",
       "4  NCT04515147  Phase 2       668.0  infectious diseases             17.0   \n",
       "\n",
       "  gender  dropout_rate  AE_total_serious  AE_total_other  phase_encoded  \\\n",
       "0    All      3.111111               1.0          1082.0              6   \n",
       "1    All     11.764706               3.0           100.0              2   \n",
       "2    All      1.818182             349.0          1716.0              4   \n",
       "3    All      3.611971             119.0          4625.0              6   \n",
       "4    All      8.532934             140.0          3398.0              4   \n",
       "\n",
       "   gender_encoded  \n",
       "0               0  \n",
       "1               0  \n",
       "2               0  \n",
       "3               0  \n",
       "4               0  "
      ]
     },
     "execution_count": 310,
     "metadata": {},
     "output_type": "execute_result"
    }
   ],
   "source": [
    "# Initialize the LabelEncoder\n",
    "le = LabelEncoder()\n",
    "\n",
    "# Encode the 'gender' column\n",
    "df_ml['gender_encoded'] = le.fit_transform(df_ml['gender'])\n",
    "\n",
    "# Display the DataFrame with the new column\n",
    "df_ml.head()"
   ]
  },
  {
   "cell_type": "code",
   "execution_count": 311,
   "metadata": {},
   "outputs": [
    {
     "data": {
      "text/html": [
       "<div>\n",
       "<style scoped>\n",
       "    .dataframe tbody tr th:only-of-type {\n",
       "        vertical-align: middle;\n",
       "    }\n",
       "\n",
       "    .dataframe tbody tr th {\n",
       "        vertical-align: top;\n",
       "    }\n",
       "\n",
       "    .dataframe thead th {\n",
       "        text-align: right;\n",
       "    }\n",
       "</style>\n",
       "<table border=\"1\" class=\"dataframe\">\n",
       "  <thead>\n",
       "    <tr style=\"text-align: right;\">\n",
       "      <th></th>\n",
       "      <th>nct_id</th>\n",
       "      <th>enrollment</th>\n",
       "      <th>condition_name</th>\n",
       "      <th>actual_duration</th>\n",
       "      <th>dropout_rate</th>\n",
       "      <th>AE_total_serious</th>\n",
       "      <th>AE_total_other</th>\n",
       "      <th>phase_encoded</th>\n",
       "      <th>gender_encoded</th>\n",
       "    </tr>\n",
       "  </thead>\n",
       "  <tbody>\n",
       "    <tr>\n",
       "      <th>0</th>\n",
       "      <td>NCT00444951</td>\n",
       "      <td>450.0</td>\n",
       "      <td>infectious diseases</td>\n",
       "      <td>12.0</td>\n",
       "      <td>3.111111</td>\n",
       "      <td>1.0</td>\n",
       "      <td>1082.0</td>\n",
       "      <td>6</td>\n",
       "      <td>0</td>\n",
       "    </tr>\n",
       "    <tr>\n",
       "      <th>1</th>\n",
       "      <td>NCT00623831</td>\n",
       "      <td>17.0</td>\n",
       "      <td>cancer</td>\n",
       "      <td>60.0</td>\n",
       "      <td>11.764706</td>\n",
       "      <td>3.0</td>\n",
       "      <td>100.0</td>\n",
       "      <td>2</td>\n",
       "      <td>0</td>\n",
       "    </tr>\n",
       "    <tr>\n",
       "      <th>2</th>\n",
       "      <td>NCT00434577</td>\n",
       "      <td>715.0</td>\n",
       "      <td>infectious diseases</td>\n",
       "      <td>7.0</td>\n",
       "      <td>1.818182</td>\n",
       "      <td>349.0</td>\n",
       "      <td>1716.0</td>\n",
       "      <td>4</td>\n",
       "      <td>0</td>\n",
       "    </tr>\n",
       "    <tr>\n",
       "      <th>3</th>\n",
       "      <td>NCT00616421</td>\n",
       "      <td>2907.0</td>\n",
       "      <td>infectious diseases</td>\n",
       "      <td>13.0</td>\n",
       "      <td>3.611971</td>\n",
       "      <td>119.0</td>\n",
       "      <td>4625.0</td>\n",
       "      <td>6</td>\n",
       "      <td>0</td>\n",
       "    </tr>\n",
       "    <tr>\n",
       "      <th>4</th>\n",
       "      <td>NCT04515147</td>\n",
       "      <td>668.0</td>\n",
       "      <td>infectious diseases</td>\n",
       "      <td>17.0</td>\n",
       "      <td>8.532934</td>\n",
       "      <td>140.0</td>\n",
       "      <td>3398.0</td>\n",
       "      <td>4</td>\n",
       "      <td>0</td>\n",
       "    </tr>\n",
       "  </tbody>\n",
       "</table>\n",
       "</div>"
      ],
      "text/plain": [
       "        nct_id  enrollment       condition_name  actual_duration  \\\n",
       "0  NCT00444951       450.0  infectious diseases             12.0   \n",
       "1  NCT00623831        17.0               cancer             60.0   \n",
       "2  NCT00434577       715.0  infectious diseases              7.0   \n",
       "3  NCT00616421      2907.0  infectious diseases             13.0   \n",
       "4  NCT04515147       668.0  infectious diseases             17.0   \n",
       "\n",
       "   dropout_rate  AE_total_serious  AE_total_other  phase_encoded  \\\n",
       "0      3.111111               1.0          1082.0              6   \n",
       "1     11.764706               3.0           100.0              2   \n",
       "2      1.818182             349.0          1716.0              4   \n",
       "3      3.611971             119.0          4625.0              6   \n",
       "4      8.532934             140.0          3398.0              4   \n",
       "\n",
       "   gender_encoded  \n",
       "0               0  \n",
       "1               0  \n",
       "2               0  \n",
       "3               0  \n",
       "4               0  "
      ]
     },
     "execution_count": 311,
     "metadata": {},
     "output_type": "execute_result"
    }
   ],
   "source": [
    "# Drop 'phase' and 'gender' columns\n",
    "df_ml = df_ml.drop(['phase', 'gender'], axis=1)\n",
    "\n",
    "# Display the DataFrame with the new column\n",
    "df_ml.head()"
   ]
  },
  {
   "cell_type": "markdown",
   "metadata": {},
   "source": [
    "#### Feature selection methods"
   ]
  },
  {
   "cell_type": "markdown",
   "metadata": {},
   "source": [
    "Filter methods\n",
    "\n",
    "- Variance threshold: to remove any features that have little to no variation in their values.\n",
    "- Pearson’s correlation: measuring the linear relationship between two numeric, continuous variables. Correlation between features, and correlation between features and target.\n",
    "- F-statistic: correlation between features and target.\n",
    "- Mutual information: measures the dependence between two variables and can be used to estimate how much a feature contributes to the prediction of the target variable."
   ]
  },
  {
   "cell_type": "code",
   "execution_count": 312,
   "metadata": {},
   "outputs": [],
   "source": [
    "# features\n",
    "features = df_ml.drop(['nct_id', 'condition_name', 'phase_encoded', 'gender_encoded', 'dropout_rate'], axis=1)\n",
    "\n",
    "# target variable\n",
    "target = df_ml['dropout_rate']"
   ]
  },
  {
   "cell_type": "code",
   "execution_count": 313,
   "metadata": {},
   "outputs": [
    {
     "name": "stdout",
     "output_type": "stream",
     "text": [
      "[[4.500e+02 1.200e+01 1.000e+00 1.082e+03]\n",
      " [1.700e+01 6.000e+01 3.000e+00 1.000e+02]\n",
      " [7.150e+02 7.000e+00 3.490e+02 1.716e+03]\n",
      " ...\n",
      " [3.000e+02 7.000e+00 3.000e+00 4.200e+01]\n",
      " [1.447e+03 1.200e+01 9.300e+01 5.699e+03]\n",
      " [4.800e+01 3.000e+00 6.000e+00 2.480e+02]]\n"
     ]
    }
   ],
   "source": [
    "# Variance threshold\n",
    "selector = VarianceThreshold(threshold=0)  # 0 is default\n",
    "print(selector.fit_transform(features))"
   ]
  },
  {
   "cell_type": "code",
   "execution_count": 314,
   "metadata": {},
   "outputs": [
    {
     "name": "stdout",
     "output_type": "stream",
     "text": [
      "['enrollment', 'actual_duration', 'AE_total_serious', 'AE_total_other']\n"
     ]
    }
   ],
   "source": [
    "# Use indices to get the corresponding column names of selected features\n",
    "num_cols = list(features.columns[selector.get_support(indices=True)])\n",
    "print(num_cols)"
   ]
  },
  {
   "cell_type": "code",
   "execution_count": 315,
   "metadata": {},
   "outputs": [
    {
     "data": {
      "image/png": "[encoded data removed]",
      "text/plain": [
       "<Figure size 432x288 with 2 Axes>"
      ]
     },
     "metadata": {
      "needs_background": "light"
     },
     "output_type": "display_data"
    }
   ],
   "source": [
    "# Pearson’s correlation: \n",
    "# Correlation between features: drop highly correlated features to avoid duplicate information.\n",
    "\n",
    "corr_matrix = features.corr(method='pearson') \n",
    "\n",
    "sns.heatmap(corr_matrix, annot=True, cmap='RdBu_r')\n",
    "plt.show()"
   ]
  },
  {
   "cell_type": "code",
   "execution_count": 316,
   "metadata": {},
   "outputs": [],
   "source": [
    "# Correlation between features and target\n",
    "\n",
    "X_y = features.copy()\n",
    "X_y['dropout_rate'] = target"
   ]
  },
  {
   "cell_type": "code",
   "execution_count": 317,
   "metadata": {},
   "outputs": [
    {
     "data": {
      "image/png": "[encoded data removed]",
      "text/plain": [
       "<Figure size 432x288 with 2 Axes>"
      ]
     },
     "metadata": {
      "needs_background": "light"
     },
     "output_type": "display_data"
    }
   ],
   "source": [
    "corr_matrix = X_y.corr()\n",
    "\n",
    "# Isolate the column corresponding to 'dropout'\n",
    "corr_target = corr_matrix[['dropout_rate']].drop(labels=['dropout_rate'])\n",
    "\n",
    "sns.heatmap(corr_target, annot=True, fmt='.3', cmap='RdBu_r')\n",
    "plt.show()"
   ]
  },
  {
   "cell_type": "code",
   "execution_count": 318,
   "metadata": {},
   "outputs": [
    {
     "name": "stdout",
     "output_type": "stream",
     "text": [
      "(array([  8.77101214, 180.49438184,  38.33790417,  12.74283695]), array([3.13105485e-03, 5.04123953e-38, 8.59275090e-10, 3.73924089e-04]))\n"
     ]
    }
   ],
   "source": [
    "# F-statistic: correlation between features and target\n",
    "# The F-statistic will be larger (and p-value will be smaller) for predictors that are more highly correlated with the target variable\n",
    "# First array: F-statistic\n",
    "# Second array: p-value\n",
    "\n",
    "print(f_regression(features, target))"
   ]
  },
  {
   "cell_type": "code",
   "execution_count": 321,
   "metadata": {},
   "outputs": [
    {
     "data": {
      "text/html": [
       "<div>\n",
       "<style scoped>\n",
       "    .dataframe tbody tr th:only-of-type {\n",
       "        vertical-align: middle;\n",
       "    }\n",
       "\n",
       "    .dataframe tbody tr th {\n",
       "        vertical-align: top;\n",
       "    }\n",
       "\n",
       "    .dataframe thead th {\n",
       "        text-align: right;\n",
       "    }\n",
       "</style>\n",
       "<table border=\"1\" class=\"dataframe\">\n",
       "  <thead>\n",
       "    <tr style=\"text-align: right;\">\n",
       "      <th></th>\n",
       "      <th>enrollment</th>\n",
       "      <th>actual_duration</th>\n",
       "      <th>AE_total_serious</th>\n",
       "      <th>AE_total_other</th>\n",
       "      <th>phase_encoded</th>\n",
       "      <th>gender_encoded</th>\n",
       "    </tr>\n",
       "  </thead>\n",
       "  <tbody>\n",
       "    <tr>\n",
       "      <th>0</th>\n",
       "      <td>450.0</td>\n",
       "      <td>12.0</td>\n",
       "      <td>1.0</td>\n",
       "      <td>1082.0</td>\n",
       "      <td>6</td>\n",
       "      <td>0</td>\n",
       "    </tr>\n",
       "    <tr>\n",
       "      <th>1</th>\n",
       "      <td>17.0</td>\n",
       "      <td>60.0</td>\n",
       "      <td>3.0</td>\n",
       "      <td>100.0</td>\n",
       "      <td>2</td>\n",
       "      <td>0</td>\n",
       "    </tr>\n",
       "    <tr>\n",
       "      <th>2</th>\n",
       "      <td>715.0</td>\n",
       "      <td>7.0</td>\n",
       "      <td>349.0</td>\n",
       "      <td>1716.0</td>\n",
       "      <td>4</td>\n",
       "      <td>0</td>\n",
       "    </tr>\n",
       "    <tr>\n",
       "      <th>3</th>\n",
       "      <td>2907.0</td>\n",
       "      <td>13.0</td>\n",
       "      <td>119.0</td>\n",
       "      <td>4625.0</td>\n",
       "      <td>6</td>\n",
       "      <td>0</td>\n",
       "    </tr>\n",
       "    <tr>\n",
       "      <th>4</th>\n",
       "      <td>668.0</td>\n",
       "      <td>17.0</td>\n",
       "      <td>140.0</td>\n",
       "      <td>3398.0</td>\n",
       "      <td>4</td>\n",
       "      <td>0</td>\n",
       "    </tr>\n",
       "  </tbody>\n",
       "</table>\n",
       "</div>"
      ],
      "text/plain": [
       "   enrollment  actual_duration  AE_total_serious  AE_total_other  \\\n",
       "0       450.0             12.0               1.0          1082.0   \n",
       "1        17.0             60.0               3.0           100.0   \n",
       "2       715.0              7.0             349.0          1716.0   \n",
       "3      2907.0             13.0             119.0          4625.0   \n",
       "4       668.0             17.0             140.0          3398.0   \n",
       "\n",
       "   phase_encoded  gender_encoded  \n",
       "0              6               0  \n",
       "1              2               0  \n",
       "2              4               0  \n",
       "3              6               0  \n",
       "4              4               0  "
      ]
     },
     "execution_count": 321,
     "metadata": {},
     "output_type": "execute_result"
    }
   ],
   "source": [
    "# features\n",
    "features = df_ml.drop(['nct_id', 'condition_name', 'dropout_rate'], axis=1)\n",
    "features.head()"
   ]
  },
  {
   "cell_type": "code",
   "execution_count": 322,
   "metadata": {},
   "outputs": [
    {
     "name": "stdout",
     "output_type": "stream",
     "text": [
      "[0.21351336 0.1909635  0.1037139  0.07544268 0.02862855 0.03070668]\n"
     ]
    }
   ],
   "source": [
    "# Mutual information\n",
    "\n",
    "# features\n",
    "features = df_ml.drop(['nct_id', 'condition_name', 'dropout_rate'], axis=1)\n",
    "\n",
    "# target variable\n",
    "target = df_ml['dropout_rate']\n",
    "\n",
    "print(mutual_info_regression(features, target, discrete_features=[4,5], random_state=68))"
   ]
  },
  {
   "cell_type": "code",
   "execution_count": 323,
   "metadata": {},
   "outputs": [
    {
     "name": "stdout",
     "output_type": "stream",
     "text": [
      "[[4.500e+02 1.200e+01 1.000e+00 1.082e+03 0.000e+00]\n",
      " [1.700e+01 6.000e+01 3.000e+00 1.000e+02 0.000e+00]\n",
      " [7.150e+02 7.000e+00 3.490e+02 1.716e+03 0.000e+00]\n",
      " ...\n",
      " [3.000e+02 7.000e+00 3.000e+00 4.200e+01 0.000e+00]\n",
      " [1.447e+03 1.200e+01 9.300e+01 5.699e+03 1.000e+00]\n",
      " [4.800e+01 3.000e+00 6.000e+00 2.480e+02 0.000e+00]]\n"
     ]
    }
   ],
   "source": [
    "score_func = partial(mutual_info_regression, discrete_features=[4,5], random_state=68)\n",
    "\n",
    "# Select top 3 features with the most mutual information\n",
    "selection = SelectKBest(score_func=score_func, k=5)\n",
    "\n",
    "print(selection.fit_transform(features, target))"
   ]
  },
  {
   "cell_type": "code",
   "execution_count": 324,
   "metadata": {},
   "outputs": [
    {
     "name": "stdout",
     "output_type": "stream",
     "text": [
      "      enrollment  actual_duration  AE_total_serious  AE_total_other  \\\n",
      "0          450.0             12.0               1.0          1082.0   \n",
      "1           17.0             60.0               3.0           100.0   \n",
      "2          715.0              7.0             349.0          1716.0   \n",
      "3         2907.0             13.0             119.0          4625.0   \n",
      "4          668.0             17.0             140.0          3398.0   \n",
      "...          ...              ...               ...             ...   \n",
      "1023       406.0             19.0               0.0           169.0   \n",
      "1024        50.0             56.0              38.0           123.0   \n",
      "1025       300.0              7.0               3.0            42.0   \n",
      "1026      1447.0             12.0              93.0          5699.0   \n",
      "1027        48.0              3.0               6.0           248.0   \n",
      "\n",
      "      gender_encoded  \n",
      "0                  0  \n",
      "1                  0  \n",
      "2                  0  \n",
      "3                  0  \n",
      "4                  0  \n",
      "...              ...  \n",
      "1023               1  \n",
      "1024               2  \n",
      "1025               0  \n",
      "1026               1  \n",
      "1027               0  \n",
      "\n",
      "[1028 rows x 5 columns]\n"
     ]
    }
   ],
   "source": [
    "X = features[features.columns[selection.get_support(indices=True)]]\n",
    "print(X)"
   ]
  },
  {
   "cell_type": "markdown",
   "metadata": {},
   "source": [
    "One-Hot Encoding:\n",
    "\n",
    "- dummy variables are created to handle categorical variables. They transform each category within a variable into its own binary identifier.\n",
    "- disadvantage: it can lead to a high-dimensional feature space if there are many unique diseases, so it may not be efficient for large datasets."
   ]
  },
  {
   "cell_type": "code",
   "execution_count": 325,
   "metadata": {},
   "outputs": [
    {
     "data": {
      "text/html": [
       "<div>\n",
       "<style scoped>\n",
       "    .dataframe tbody tr th:only-of-type {\n",
       "        vertical-align: middle;\n",
       "    }\n",
       "\n",
       "    .dataframe tbody tr th {\n",
       "        vertical-align: top;\n",
       "    }\n",
       "\n",
       "    .dataframe thead th {\n",
       "        text-align: right;\n",
       "    }\n",
       "</style>\n",
       "<table border=\"1\" class=\"dataframe\">\n",
       "  <thead>\n",
       "    <tr style=\"text-align: right;\">\n",
       "      <th></th>\n",
       "      <th>nct_id</th>\n",
       "      <th>enrollment</th>\n",
       "      <th>actual_duration</th>\n",
       "      <th>dropout_rate</th>\n",
       "      <th>AE_total_serious</th>\n",
       "      <th>AE_total_other</th>\n",
       "      <th>phase_encoded</th>\n",
       "      <th>gender_encoded</th>\n",
       "      <th>condition_allergy</th>\n",
       "      <th>condition_autoimmune diseases</th>\n",
       "      <th>condition_cancer</th>\n",
       "      <th>condition_chronic diseases</th>\n",
       "      <th>condition_congenital disorders</th>\n",
       "      <th>condition_healthy</th>\n",
       "      <th>condition_heart diseases</th>\n",
       "      <th>condition_infectious diseases</th>\n",
       "      <th>condition_inflammatory diseases</th>\n",
       "      <th>condition_pregnancy</th>\n",
       "      <th>condition_respiratory disorders</th>\n",
       "      <th>condition_transplant</th>\n",
       "    </tr>\n",
       "  </thead>\n",
       "  <tbody>\n",
       "    <tr>\n",
       "      <th>0</th>\n",
       "      <td>NCT00444951</td>\n",
       "      <td>450.0</td>\n",
       "      <td>12.0</td>\n",
       "      <td>3.111111</td>\n",
       "      <td>1.0</td>\n",
       "      <td>1082.0</td>\n",
       "      <td>6</td>\n",
       "      <td>0</td>\n",
       "      <td>0</td>\n",
       "      <td>0</td>\n",
       "      <td>0</td>\n",
       "      <td>0</td>\n",
       "      <td>0</td>\n",
       "      <td>0</td>\n",
       "      <td>0</td>\n",
       "      <td>1</td>\n",
       "      <td>0</td>\n",
       "      <td>0</td>\n",
       "      <td>0</td>\n",
       "      <td>0</td>\n",
       "    </tr>\n",
       "    <tr>\n",
       "      <th>1</th>\n",
       "      <td>NCT00623831</td>\n",
       "      <td>17.0</td>\n",
       "      <td>60.0</td>\n",
       "      <td>11.764706</td>\n",
       "      <td>3.0</td>\n",
       "      <td>100.0</td>\n",
       "      <td>2</td>\n",
       "      <td>0</td>\n",
       "      <td>0</td>\n",
       "      <td>0</td>\n",
       "      <td>1</td>\n",
       "      <td>0</td>\n",
       "      <td>0</td>\n",
       "      <td>0</td>\n",
       "      <td>0</td>\n",
       "      <td>0</td>\n",
       "      <td>0</td>\n",
       "      <td>0</td>\n",
       "      <td>0</td>\n",
       "      <td>0</td>\n",
       "    </tr>\n",
       "    <tr>\n",
       "      <th>2</th>\n",
       "      <td>NCT00434577</td>\n",
       "      <td>715.0</td>\n",
       "      <td>7.0</td>\n",
       "      <td>1.818182</td>\n",
       "      <td>349.0</td>\n",
       "      <td>1716.0</td>\n",
       "      <td>4</td>\n",
       "      <td>0</td>\n",
       "      <td>0</td>\n",
       "      <td>0</td>\n",
       "      <td>0</td>\n",
       "      <td>0</td>\n",
       "      <td>0</td>\n",
       "      <td>0</td>\n",
       "      <td>0</td>\n",
       "      <td>1</td>\n",
       "      <td>0</td>\n",
       "      <td>0</td>\n",
       "      <td>0</td>\n",
       "      <td>0</td>\n",
       "    </tr>\n",
       "    <tr>\n",
       "      <th>3</th>\n",
       "      <td>NCT00616421</td>\n",
       "      <td>2907.0</td>\n",
       "      <td>13.0</td>\n",
       "      <td>3.611971</td>\n",
       "      <td>119.0</td>\n",
       "      <td>4625.0</td>\n",
       "      <td>6</td>\n",
       "      <td>0</td>\n",
       "      <td>0</td>\n",
       "      <td>0</td>\n",
       "      <td>0</td>\n",
       "      <td>0</td>\n",
       "      <td>0</td>\n",
       "      <td>0</td>\n",
       "      <td>0</td>\n",
       "      <td>1</td>\n",
       "      <td>0</td>\n",
       "      <td>0</td>\n",
       "      <td>0</td>\n",
       "      <td>0</td>\n",
       "    </tr>\n",
       "    <tr>\n",
       "      <th>4</th>\n",
       "      <td>NCT04515147</td>\n",
       "      <td>668.0</td>\n",
       "      <td>17.0</td>\n",
       "      <td>8.532934</td>\n",
       "      <td>140.0</td>\n",
       "      <td>3398.0</td>\n",
       "      <td>4</td>\n",
       "      <td>0</td>\n",
       "      <td>0</td>\n",
       "      <td>0</td>\n",
       "      <td>0</td>\n",
       "      <td>0</td>\n",
       "      <td>0</td>\n",
       "      <td>0</td>\n",
       "      <td>0</td>\n",
       "      <td>1</td>\n",
       "      <td>0</td>\n",
       "      <td>0</td>\n",
       "      <td>0</td>\n",
       "      <td>0</td>\n",
       "    </tr>\n",
       "  </tbody>\n",
       "</table>\n",
       "</div>"
      ],
      "text/plain": [
       "        nct_id  enrollment  actual_duration  dropout_rate  AE_total_serious  \\\n",
       "0  NCT00444951       450.0             12.0      3.111111               1.0   \n",
       "1  NCT00623831        17.0             60.0     11.764706               3.0   \n",
       "2  NCT00434577       715.0              7.0      1.818182             349.0   \n",
       "3  NCT00616421      2907.0             13.0      3.611971             119.0   \n",
       "4  NCT04515147       668.0             17.0      8.532934             140.0   \n",
       "\n",
       "   AE_total_other  phase_encoded  gender_encoded  condition_allergy  \\\n",
       "0          1082.0              6               0                  0   \n",
       "1           100.0              2               0                  0   \n",
       "2          1716.0              4               0                  0   \n",
       "3          4625.0              6               0                  0   \n",
       "4          3398.0              4               0                  0   \n",
       "\n",
       "   condition_autoimmune diseases  condition_cancer  \\\n",
       "0                              0                 0   \n",
       "1                              0                 1   \n",
       "2                              0                 0   \n",
       "3                              0                 0   \n",
       "4                              0                 0   \n",
       "\n",
       "   condition_chronic diseases  condition_congenital disorders  \\\n",
       "0                           0                               0   \n",
       "1                           0                               0   \n",
       "2                           0                               0   \n",
       "3                           0                               0   \n",
       "4                           0                               0   \n",
       "\n",
       "   condition_healthy  condition_heart diseases  condition_infectious diseases  \\\n",
       "0                  0                         0                              1   \n",
       "1                  0                         0                              0   \n",
       "2                  0                         0                              1   \n",
       "3                  0                         0                              1   \n",
       "4                  0                         0                              1   \n",
       "\n",
       "   condition_inflammatory diseases  condition_pregnancy  \\\n",
       "0                                0                    0   \n",
       "1                                0                    0   \n",
       "2                                0                    0   \n",
       "3                                0                    0   \n",
       "4                                0                    0   \n",
       "\n",
       "   condition_respiratory disorders  condition_transplant  \n",
       "0                                0                     0  \n",
       "1                                0                     0  \n",
       "2                                0                     0  \n",
       "3                                0                     0  \n",
       "4                                0                     0  "
      ]
     },
     "execution_count": 325,
     "metadata": {},
     "output_type": "execute_result"
    }
   ],
   "source": [
    "# Create dummy variables for 'condition_name' \n",
    "df_ml = pd.get_dummies(df_ml, columns=['condition_name'], prefix=['condition'])\n",
    "df_ml.head()"
   ]
  },
  {
   "cell_type": "markdown",
   "metadata": {},
   "source": [
    "#### Recursive Feature Elimination"
   ]
  },
  {
   "cell_type": "code",
   "execution_count": 326,
   "metadata": {},
   "outputs": [],
   "source": [
    "# Select variables\n",
    "x = df_ml.drop(['nct_id', 'dropout_rate'], axis=1)\n",
    "y = df_ml['dropout_rate']"
   ]
  },
  {
   "cell_type": "code",
   "execution_count": 327,
   "metadata": {},
   "outputs": [
    {
     "name": "stdout",
     "output_type": "stream",
     "text": [
      "0.22591235895477957\n",
      "['enrollment', 'actual_duration', 'AE_total_serious', 'condition_autoimmune diseases', 'condition_cancer', 'condition_inflammatory diseases']\n"
     ]
    }
   ],
   "source": [
    "# Get feature names\n",
    "features = x.columns\n",
    "\n",
    "# Create a linear regression model\n",
    "lm = LinearRegression()\n",
    "\n",
    "# Standardize the data\n",
    "x = pd.DataFrame(StandardScaler().fit_transform(x))\n",
    "\n",
    "# Create a recursive feature elimination model\n",
    "rfe = RFE(estimator=lm, n_features_to_select=6)\n",
    "\n",
    "# Fit the recursive feature elimination model to x and y\n",
    "rfe.fit(x, y)\n",
    "\n",
    "# Print the model accuracy after doing recursive feature elimination\n",
    "print(rfe.score(x, y))\n",
    "\n",
    "# See which features recursive feature elimination chose\n",
    "rfe_features = [f for (f, support) in zip(features, rfe.support_) if support]\n",
    "print(rfe_features)"
   ]
  },
  {
   "cell_type": "code",
   "execution_count": 328,
   "metadata": {},
   "outputs": [],
   "source": [
    "# Select variables\n",
    "x = df_ml.drop(['nct_id', 'dropout_rate'], axis=1)\n",
    "y = df_ml['dropout_rate']"
   ]
  },
  {
   "cell_type": "code",
   "execution_count": 329,
   "metadata": {},
   "outputs": [
    {
     "name": "stdout",
     "output_type": "stream",
     "text": [
      "0.8864843736320805\n",
      "['enrollment', 'actual_duration', 'AE_total_serious', 'AE_total_other', 'phase_encoded', 'condition_cancer']\n"
     ]
    }
   ],
   "source": [
    "# Get feature names\n",
    "features = x.columns\n",
    "\n",
    "# Create a random forest regression model\n",
    "rfr = RandomForestRegressor()\n",
    "\n",
    "# Standardize the data\n",
    "x = pd.DataFrame(StandardScaler().fit_transform(x))\n",
    "\n",
    "# Create a recursive feature elimination model\n",
    "rfe = RFE(estimator=rfr, n_features_to_select=6)\n",
    "\n",
    "# Fit the recursive feature elimination model to x and y\n",
    "rfe.fit(x, y)\n",
    "\n",
    "# Print the model accuracy after doing recursive feature elimination\n",
    "print(rfe.score(x, y))\n",
    "\n",
    "# See which features recursive feature elimination chose\n",
    "rfe_features = [f for (f, support) in zip(features, rfe.support_) if support]\n",
    "print(rfe_features)"
   ]
  },
  {
   "cell_type": "markdown",
   "metadata": {},
   "source": [
    "#### Select Variables\n",
    "\n",
    "The data for the model will consist of a subset of variables. The **x** dataframe will contain features that could serve as good predictors for patient dropout in clinical trials. The **y** dataframe will include the target column, denoted by the 'dropout_rate', indicating the percentage of dropouts per clinical trial.\n",
    "\n",
    "**Table 1.**\n",
    "\n",
    "target variable: \n",
    "\n",
    "- dropout_rate\n",
    "\n",
    "features:\n",
    "\n",
    "- enrollment: total number of participants.\n",
    "- actual_duration: total duration.\n",
    "- AE_total_serious: frequency of serious adverse events.\n",
    "- AE_total_other: frequency of other adverse events.\n"
   ]
  },
  {
   "cell_type": "code",
   "execution_count": 331,
   "metadata": {},
   "outputs": [],
   "source": [
    "# Select variables\n",
    "x = df_ml.drop(['nct_id', 'dropout_rate'], axis=1)\n",
    "y = df_ml['dropout_rate']"
   ]
  },
  {
   "cell_type": "markdown",
   "metadata": {},
   "source": [
    "#### Splitting the Data\n",
    "\n",
    "Next, the data needs to be divided into training and validation sets. In this split, 20% of the data is reserved for final validation, while 80% is allocated for training the model."
   ]
  },
  {
   "cell_type": "code",
   "execution_count": 332,
   "metadata": {},
   "outputs": [],
   "source": [
    "# Splitting the data\n",
    "\n",
    "#Validation chunk size\n",
    "val_size = 0.20\n",
    "\n",
    "#Split the data into chunks\n",
    "x_train, x_test, y_train, y_test = train_test_split(x, y, test_size=val_size, random_state = 0)"
   ]
  },
  {
   "cell_type": "markdown",
   "metadata": {},
   "source": [
    "#### Prediction\n",
    "\n",
    "- **Model Building:** for this project, four algorithms will be used to make predictions:\n",
    "\n",
    "  1. Linear Regression\n",
    "  2. K Nearest Neighbor\n",
    "  3. Decision Trees\n",
    "  4. Random Forests\n",
    "\n",
    "- **Evaluation Metrics:**\n",
    "  - Mean Squared Error (MSE)\n",
    "  - Mean Absolute Error (MAE)\n",
    "  - R-squared (R2)"
   ]
  },
  {
   "cell_type": "markdown",
   "metadata": {},
   "source": [
    "##### Multiple Linear Regression"
   ]
  },
  {
   "cell_type": "code",
   "execution_count": 333,
   "metadata": {},
   "outputs": [],
   "source": [
    "# Initialize and train a linear regression model\n",
    "lm = LinearRegression()\n",
    "lm.fit(x_train, y_train)\n",
    "\n",
    "# Make predictions on the test set\n",
    "y_pred = lm.predict(x_test)"
   ]
  },
  {
   "cell_type": "code",
   "execution_count": 334,
   "metadata": {},
   "outputs": [
    {
     "name": "stdout",
     "output_type": "stream",
     "text": [
      "Coefficients of each feature: [ 2.88584589e-04  1.39744553e-01 -2.72438179e-04  2.48518864e-04\n",
      " -2.10731987e-01  2.34950383e+00 -6.69902420e+00  1.03011198e+01\n",
      "  1.24487768e+01  3.54355901e+00 -1.77635684e-15 -2.68171824e+00\n",
      " -1.29990449e+01 -1.19050182e+00  9.04312453e+00 -8.33825286e+00\n",
      " -2.25964813e+00 -1.16838991e+00]\n",
      "Intercept: 6.158941905562811\n"
     ]
    }
   ],
   "source": [
    "# Print coeficients and intercept\n",
    "print(\"Coefficients of each feature:\", lm.coef_)\n",
    "print(\"Intercept:\", lm.intercept_)"
   ]
  },
  {
   "cell_type": "code",
   "execution_count": 335,
   "metadata": {},
   "outputs": [
    {
     "name": "stdout",
     "output_type": "stream",
     "text": [
      "Train score:\n",
      "0.21891479125513758\n",
      "Test score:\n",
      "0.09923954310500738\n"
     ]
    }
   ],
   "source": [
    "#Print train and test score\n",
    "print(\"Train score:\")\n",
    "print(lm.score(x_train, y_train))\n",
    "\n",
    "print(\"Test score:\")\n",
    "print(lm.score(x_test, y_test))"
   ]
  },
  {
   "cell_type": "code",
   "execution_count": 336,
   "metadata": {},
   "outputs": [
    {
     "name": "stdout",
     "output_type": "stream",
     "text": [
      "Mean Squared Error: 218.13206820861743\n",
      "Root Mean Squared Error: 14.76929477695592\n",
      "Mean Absolute Error: 8.181039802299725\n",
      "R-squared: 0.09923954310500738\n"
     ]
    }
   ],
   "source": [
    "# Calculate the evaluation metrics to assess the model's performance\n",
    "\n",
    "mse = mean_squared_error(y_test, y_pred)\n",
    "print(\"Mean Squared Error:\", mse)\n",
    "\n",
    "# Calculate Root Mean Squared Error (RMSE)\n",
    "rmse = np.sqrt(mse)\n",
    "print(\"Root Mean Squared Error:\", rmse)\n",
    "\n",
    "mae = mean_absolute_error(y_test, y_pred)\n",
    "print(\"Mean Absolute Error:\", mae)\n",
    "\n",
    "r2 = r2_score(y_test, y_pred)\n",
    "print(\"R-squared:\", r2)"
   ]
  },
  {
   "cell_type": "markdown",
   "metadata": {},
   "source": [
    "##### K Nearest Neighbor"
   ]
  },
  {
   "cell_type": "code",
   "execution_count": 337,
   "metadata": {},
   "outputs": [],
   "source": [
    "# Initialize the KNN regressor \n",
    "knn_regressor = KNeighborsRegressor(n_neighbors=5)\n",
    "\n",
    "# Train the KNN regressor on the training data\n",
    "knn_regressor.fit(x_train, y_train)\n",
    "\n",
    "# Make predictions on the test data\n",
    "y_pred = knn_regressor.predict(x_test)"
   ]
  },
  {
   "cell_type": "code",
   "execution_count": 338,
   "metadata": {},
   "outputs": [
    {
     "name": "stdout",
     "output_type": "stream",
     "text": [
      "Mean Squared Error: 239.90924364905558\n",
      "Root Mean Squared Error: 15.489003959230418\n",
      "Mean Absolute Error: 8.59581934060385\n",
      "R-squared: 0.009312286371480738\n"
     ]
    }
   ],
   "source": [
    "# Calculate the evaluation metrics to assess the model's performance\n",
    "\n",
    "mse = mean_squared_error(y_test, y_pred)\n",
    "print(\"Mean Squared Error:\", mse)\n",
    "\n",
    "# Calculate Root Mean Squared Error (RMSE)\n",
    "rmse = np.sqrt(mse)\n",
    "print(\"Root Mean Squared Error:\", rmse)\n",
    "\n",
    "mae = mean_absolute_error(y_test, y_pred)\n",
    "print(\"Mean Absolute Error:\", mae)\n",
    "\n",
    "r2 = r2_score(y_test, y_pred)\n",
    "print(\"R-squared:\", r2)"
   ]
  },
  {
   "cell_type": "markdown",
   "metadata": {},
   "source": [
    "#### Hyperparameter tuning"
   ]
  },
  {
   "cell_type": "code",
   "execution_count": 339,
   "metadata": {},
   "outputs": [
    {
     "name": "stdout",
     "output_type": "stream",
     "text": [
      "Best parameters: {'n_neighbors': 7, 'p': 1, 'weights': 'distance'}\n",
      "Mean Squared Error: 237.84343883815512\n",
      "Mean Absolute Error: 8.29078484195582\n",
      "R-squared: 0.017842876580449585\n"
     ]
    }
   ],
   "source": [
    "# Define parameter grid\n",
    "param_grid = {\n",
    "    'n_neighbors': [3, 5, 7, 9],   # Number of neighbors to use\n",
    "    'weights': ['uniform', 'distance'],  # Weight function used in prediction\n",
    "    'p': [1, 2]  # Power parameter for Minkowski metric\n",
    "}\n",
    "\n",
    "# Instantiate GridSearchCV\n",
    "grid_search = GridSearchCV(KNeighborsRegressor(), param_grid, cv=5, scoring='neg_mean_squared_error')\n",
    "\n",
    "# Fit data\n",
    "grid_search.fit(x_train, y_train)\n",
    "\n",
    "# Access best model and parameters\n",
    "best_model = grid_search.best_estimator_\n",
    "best_params = grid_search.best_params_\n",
    "\n",
    "print(\"Best parameters:\", best_params)\n",
    "\n",
    "# Evaluate on test data\n",
    "y_pred = best_model.predict(x_test)\n",
    "\n",
    "mse = mean_squared_error(y_test, y_pred)\n",
    "print(\"Mean Squared Error:\", mse)\n",
    "\n",
    "mae = mean_absolute_error(y_test, y_pred)\n",
    "print(\"Mean Absolute Error:\", mae)\n",
    "\n",
    "r2 = r2_score(y_test, y_pred)\n",
    "print(\"R-squared:\", r2)"
   ]
  },
  {
   "cell_type": "markdown",
   "metadata": {},
   "source": [
    "##### Decision Trees"
   ]
  },
  {
   "cell_type": "code",
   "execution_count": 340,
   "metadata": {},
   "outputs": [
    {
     "name": "stdout",
     "output_type": "stream",
     "text": [
      "0.0014748468851432106\n"
     ]
    }
   ],
   "source": [
    "dt = DecisionTreeRegressor(max_depth=3)\n",
    "dt.fit(x_train, y_train)\n",
    "y_pred = dt.predict(x_test)\n",
    "print(dt.score(x_test, y_test))"
   ]
  },
  {
   "cell_type": "markdown",
   "metadata": {},
   "source": [
    "#### Hyperparameter tuning"
   ]
  },
  {
   "cell_type": "code",
   "execution_count": 341,
   "metadata": {},
   "outputs": [
    {
     "name": "stdout",
     "output_type": "stream",
     "text": [
      "Best parameters: {'max_depth': 3, 'min_samples_split': 10}\n",
      "Mean Squared Error: 222.13734625754276\n",
      "Root Mean Squared Error: 14.904272751715958\n",
      "Mean Absolute Error: 7.870595895164139\n",
      "R-squared: 0.0827000396978741\n"
     ]
    }
   ],
   "source": [
    "# Define parameter grid\n",
    "param_grid = {\n",
    "    'max_depth': [None, 3, 5, 10, 15],  # Maximum depth of the tree\n",
    "    'min_samples_split': [2, 5, 10]  # Minimum number of samples required to split an internal node\n",
    "}\n",
    "\n",
    "# Instantiate GridSearchCV\n",
    "grid_search = GridSearchCV(DecisionTreeRegressor(random_state=42), param_grid, cv=5, scoring='neg_mean_squared_error')\n",
    "\n",
    "# Fit data\n",
    "grid_search.fit(x_train, y_train)\n",
    "\n",
    "# Access best model and parameters\n",
    "best_model = grid_search.best_estimator_\n",
    "best_params = grid_search.best_params_\n",
    "\n",
    "print(\"Best parameters:\", best_params)\n",
    "\n",
    "# Evaluate on test data\n",
    "y_pred = best_model.predict(x_test)\n",
    "\n",
    "mse = mean_squared_error(y_test, y_pred)\n",
    "print(\"Mean Squared Error:\", mse)\n",
    "\n",
    "# Calculate Root Mean Squared Error (RMSE)\n",
    "rmse = np.sqrt(mse)\n",
    "print(\"Root Mean Squared Error:\", rmse)\n",
    "\n",
    "mae = mean_absolute_error(y_test, y_pred)\n",
    "print(\"Mean Absolute Error:\", mae)\n",
    "\n",
    "r2 = r2_score(y_test, y_pred)\n",
    "print(\"R-squared:\", r2)"
   ]
  },
  {
   "cell_type": "code",
   "execution_count": 342,
   "metadata": {},
   "outputs": [],
   "source": [
    "# # Plot tree\n",
    "# plt.figure(figsize=(10,10))\n",
    "# tree.plot_tree(dt, feature_names = x_train.columns,  \n",
    "#               filled=True)"
   ]
  },
  {
   "cell_type": "markdown",
   "metadata": {},
   "source": [
    "##### Random Forests"
   ]
  },
  {
   "cell_type": "code",
   "execution_count": 343,
   "metadata": {},
   "outputs": [
    {
     "name": "stdout",
     "output_type": "stream",
     "text": [
      "Train set R^2: 0.888961154363016\n",
      "Test set R^2: 0.02123187135358129\n",
      "Avg dropout rates Train/Test: 9.320806910995117\n",
      "Train set MAE: 3.0258037705973764\n",
      "Test set MAE: 8.198667488410138\n",
      "Mean Squared Error (test): 222.13734625754276\n",
      "Root Mean Squared Error (test): 14.904272751715958\n"
     ]
    }
   ],
   "source": [
    "rfr = RandomForestRegressor()\n",
    "rfr.fit(x_train, y_train)\n",
    "r_squared_train = rfr.score(x_train, y_train)\n",
    "r_squared_test = rfr.score(x_test, y_test)\n",
    "\n",
    "\n",
    "# Print `R^2` scores on training and test data\n",
    "print(f'Train set R^2: {r_squared_train}')\n",
    "print(f'Test set R^2: {r_squared_test}')\n",
    "\n",
    "# Print Mean Absolute Error on training and test data\n",
    "avg_dropout = y.mean()\n",
    "print(f'Avg dropout rates Train/Test: {avg_dropout}')\n",
    "\n",
    "y_pred_train = rfr.predict(x_train)\n",
    "y_pred_test = rfr.predict(x_test)\n",
    "\n",
    "mae_train = mean_absolute_error(y_train, y_pred_train)\n",
    "print(f'Train set MAE: {mae_train}')\n",
    "\n",
    "mae_test = mean_absolute_error(y_test, y_pred_test)\n",
    "print(f'Test set MAE: {mae_test}')\n",
    "\n",
    "mse = mean_squared_error(y_test, y_pred)\n",
    "print(\"Mean Squared Error (test):\", mse)\n",
    "\n",
    "# Calculate Root Mean Squared Error (RMSE)\n",
    "rmse = np.sqrt(mse)\n",
    "print(\"Root Mean Squared Error (test):\", rmse)"
   ]
  },
  {
   "cell_type": "code",
   "execution_count": 344,
   "metadata": {},
   "outputs": [
    {
     "name": "stdout",
     "output_type": "stream",
     "text": [
      "Default Score: 0.007143039920682437\n",
      "Minimum Test MSE: 204.06127733290933\n",
      "Best Depth: 2\n"
     ]
    },
    {
     "data": {
      "image/png": "[encoded data removed]",
      "text/plain": [
       "<Figure size 432x288 with 1 Axes>"
      ]
     },
     "metadata": {
      "needs_background": "light"
     },
     "output_type": "display_data"
    },
    {
     "name": "stdout",
     "output_type": "stream",
     "text": [
      "Top 5 Random Forest Features:\n",
      "            Feature  Importance\n",
      "1   actual_duration    0.633027\n",
      "0        enrollment    0.215677\n",
      "8  condition_cancer    0.103006\n",
      "2  AE_total_serious    0.022063\n",
      "5    gender_encoded    0.017354\n"
     ]
    }
   ],
   "source": [
    "# Instantiate random forest regressor, fit and score with default parameters\n",
    "rfr = RandomForestRegressor()\n",
    "rfr.fit(x_train, y_train)\n",
    "print(\"Default Score:\", rfr.score(x_test, y_test))\n",
    "\n",
    "# Tune the hyperparameter max_depth over a range from 1-25, save scores for test and train set\n",
    "np.random.seed(0)\n",
    "mse_train = []\n",
    "mse_test = []\n",
    "\n",
    "depths = range(1, 26)\n",
    "for i in depths:\n",
    "    rfr = RandomForestRegressor(max_depth=i)\n",
    "    rfr.fit(x_train, y_train)\n",
    "    y_pred_test = rfr.predict(x_test)\n",
    "    y_pred_train = rfr.predict(x_train)\n",
    "    mse_test.append(mean_squared_error(y_test, y_pred_test))\n",
    "    mse_train.append(mean_squared_error(y_train, y_pred_train))\n",
    "\n",
    "# Find the best accuracy and at what depth that occurs\n",
    "print(\"Minimum Test MSE:\", np.min(mse_test))\n",
    "best_depth = depths[np.argmin(mse_test)]\n",
    "print(\"Best Depth:\", best_depth)\n",
    "\n",
    "# Plot the MSE scores for the test and train set over the range of depth values\n",
    "plt.plot(depths, mse_test, 'bo--', depths, mse_train, 'r*:')\n",
    "plt.legend(['Test MSE', 'Train MSE'])\n",
    "plt.xlabel('Max Depth')\n",
    "plt.ylabel('Mean Squared Error')\n",
    "plt.show()\n",
    "\n",
    "# Save the best random forest model and save the feature importances in a dataframe\n",
    "best_rfr = RandomForestRegressor(max_depth=best_depth)\n",
    "best_rfr.fit(x_train, y_train)\n",
    "feature_imp_df = pd.DataFrame(zip(x_train.columns, best_rfr.feature_importances_), columns=['Feature', 'Importance'])\n",
    "print('Top 5 Random Forest Features:')\n",
    "print(feature_imp_df.sort_values('Importance', ascending=False).iloc[:5])"
   ]
  }
 ],
 "metadata": {
  "kernelspec": {
   "display_name": "base",
   "language": "python",
   "name": "python3"
  },
  "language_info": {
   "codemirror_mode": {
    "name": "ipython",
    "version": 3
   },
   "file_extension": ".py",
   "mimetype": "text/x-python",
   "name": "python",
   "nbconvert_exporter": "python",
   "pygments_lexer": "ipython3",
   "version": "3.9.7"
  }
 },
 "nbformat": 4,
 "nbformat_minor": 2
}
