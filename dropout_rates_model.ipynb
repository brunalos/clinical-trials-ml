{
 "cells": [
  {
   "cell_type": "code",
   "execution_count": 3,
   "metadata": {},
   "outputs": [],
   "source": [
    "# Import Python modules\n",
    "\n",
    "import pandas as pd\n",
    "import numpy as np\n",
    "import seaborn as sns\n",
    "import matplotlib.pyplot as plt\n",
    "import plotly.express as px\n",
    "\n",
    "\n",
    "from sklearn.model_selection import train_test_split, GridSearchCV\n",
    "from sklearn.preprocessing import LabelEncoder, StandardScaler, RobustScaler\n",
    "from category_encoders import BinaryEncoder\n",
    "from sklearn.feature_selection import RFE, VarianceThreshold, SelectKBest, f_regression, mutual_info_regression\n",
    "from sklearn.linear_model import LinearRegression, Lasso, Ridge\n",
    "from sklearn.neighbors import KNeighborsRegressor\n",
    "from sklearn.tree import DecisionTreeRegressor\n",
    "from sklearn.ensemble import RandomForestRegressor\n",
    "from sklearn import tree\n",
    "from sklearn.metrics import mean_squared_error, mean_absolute_error, r2_score\n",
    "from functools import partial\n",
    "\n",
    "import xgboost as xgb\n",
    "\n",
    "import pickle"
   ]
  },
  {
   "cell_type": "markdown",
   "metadata": {},
   "source": [
    "### Exploratory Data Analysis\n",
    "   - Check the distribution or frequency of every feature, identify outliers.\n",
    "   - For additional analysis and initial preprocessing steps please refor to: `vaccines.ipynb`."
   ]
  },
  {
   "cell_type": "code",
   "execution_count": 4,
   "metadata": {},
   "outputs": [
    {
     "data": {
      "text/html": [
       "<div>\n",
       "<style scoped>\n",
       "    .dataframe tbody tr th:only-of-type {\n",
       "        vertical-align: middle;\n",
       "    }\n",
       "\n",
       "    .dataframe tbody tr th {\n",
       "        vertical-align: top;\n",
       "    }\n",
       "\n",
       "    .dataframe thead th {\n",
       "        text-align: right;\n",
       "    }\n",
       "</style>\n",
       "<table border=\"1\" class=\"dataframe\">\n",
       "  <thead>\n",
       "    <tr style=\"text-align: right;\">\n",
       "      <th></th>\n",
       "      <th>nct_id</th>\n",
       "      <th>phase</th>\n",
       "      <th>enrollment</th>\n",
       "      <th>condition_name</th>\n",
       "      <th>actual_duration</th>\n",
       "      <th>gender</th>\n",
       "      <th>country</th>\n",
       "      <th>agency_class</th>\n",
       "      <th>dropout_rate</th>\n",
       "      <th>mean_age_imp</th>\n",
       "      <th>AE_total_serious</th>\n",
       "      <th>AE_total_other</th>\n",
       "      <th>subjects_at_risk_serious</th>\n",
       "      <th>subjects_at_risk_other</th>\n",
       "      <th>AE_serious_freq</th>\n",
       "      <th>AE_other_freq</th>\n",
       "      <th>subjects_at_risk_serious_freq</th>\n",
       "      <th>subjects_at_risk_other_freq</th>\n",
       "    </tr>\n",
       "  </thead>\n",
       "  <tbody>\n",
       "    <tr>\n",
       "      <th>0</th>\n",
       "      <td>NCT00444951</td>\n",
       "      <td>Phase 3</td>\n",
       "      <td>450.0</td>\n",
       "      <td>infectious diseases</td>\n",
       "      <td>12.0</td>\n",
       "      <td>All</td>\n",
       "      <td>saudi arabia</td>\n",
       "      <td>industry</td>\n",
       "      <td>3.111111</td>\n",
       "      <td>17.500000</td>\n",
       "      <td>1.0</td>\n",
       "      <td>1082.0</td>\n",
       "      <td>445.0</td>\n",
       "      <td>3066.0</td>\n",
       "      <td>0.002222</td>\n",
       "      <td>2.404444</td>\n",
       "      <td>0.988889</td>\n",
       "      <td>6.813333</td>\n",
       "    </tr>\n",
       "    <tr>\n",
       "      <th>1</th>\n",
       "      <td>NCT00623831</td>\n",
       "      <td>Phase 1</td>\n",
       "      <td>17.0</td>\n",
       "      <td>cancer</td>\n",
       "      <td>60.0</td>\n",
       "      <td>All</td>\n",
       "      <td>germany</td>\n",
       "      <td>other</td>\n",
       "      <td>11.764706</td>\n",
       "      <td>41.500000</td>\n",
       "      <td>3.0</td>\n",
       "      <td>100.0</td>\n",
       "      <td>51.0</td>\n",
       "      <td>1139.0</td>\n",
       "      <td>0.176471</td>\n",
       "      <td>5.882353</td>\n",
       "      <td>3.000000</td>\n",
       "      <td>67.000000</td>\n",
       "    </tr>\n",
       "    <tr>\n",
       "      <th>2</th>\n",
       "      <td>NCT00434577</td>\n",
       "      <td>Phase 2</td>\n",
       "      <td>715.0</td>\n",
       "      <td>infectious diseases</td>\n",
       "      <td>7.0</td>\n",
       "      <td>All</td>\n",
       "      <td>multiple</td>\n",
       "      <td>industry</td>\n",
       "      <td>1.818182</td>\n",
       "      <td>33.899366</td>\n",
       "      <td>349.0</td>\n",
       "      <td>1716.0</td>\n",
       "      <td>145656.0</td>\n",
       "      <td>4998.0</td>\n",
       "      <td>0.488112</td>\n",
       "      <td>2.400000</td>\n",
       "      <td>203.714685</td>\n",
       "      <td>6.990210</td>\n",
       "    </tr>\n",
       "    <tr>\n",
       "      <th>3</th>\n",
       "      <td>NCT00616421</td>\n",
       "      <td>Phase 3</td>\n",
       "      <td>2907.0</td>\n",
       "      <td>infectious diseases</td>\n",
       "      <td>13.0</td>\n",
       "      <td>All</td>\n",
       "      <td>multiple</td>\n",
       "      <td>industry</td>\n",
       "      <td>3.611971</td>\n",
       "      <td>6.000000</td>\n",
       "      <td>119.0</td>\n",
       "      <td>4625.0</td>\n",
       "      <td>69144.0</td>\n",
       "      <td>51858.0</td>\n",
       "      <td>0.040936</td>\n",
       "      <td>1.590987</td>\n",
       "      <td>23.785346</td>\n",
       "      <td>17.839009</td>\n",
       "    </tr>\n",
       "    <tr>\n",
       "      <th>4</th>\n",
       "      <td>NCT04515147</td>\n",
       "      <td>Phase 2</td>\n",
       "      <td>668.0</td>\n",
       "      <td>infectious diseases</td>\n",
       "      <td>17.0</td>\n",
       "      <td>All</td>\n",
       "      <td>multiple</td>\n",
       "      <td>industry</td>\n",
       "      <td>8.532934</td>\n",
       "      <td>41.500000</td>\n",
       "      <td>140.0</td>\n",
       "      <td>3398.0</td>\n",
       "      <td>10020.0</td>\n",
       "      <td>18036.0</td>\n",
       "      <td>0.209581</td>\n",
       "      <td>5.086826</td>\n",
       "      <td>15.000000</td>\n",
       "      <td>27.000000</td>\n",
       "    </tr>\n",
       "  </tbody>\n",
       "</table>\n",
       "</div>"
      ],
      "text/plain": [
       "        nct_id    phase  enrollment       condition_name  actual_duration  \\\n",
       "0  NCT00444951  Phase 3       450.0  infectious diseases             12.0   \n",
       "1  NCT00623831  Phase 1        17.0               cancer             60.0   \n",
       "2  NCT00434577  Phase 2       715.0  infectious diseases              7.0   \n",
       "3  NCT00616421  Phase 3      2907.0  infectious diseases             13.0   \n",
       "4  NCT04515147  Phase 2       668.0  infectious diseases             17.0   \n",
       "\n",
       "  gender       country agency_class  dropout_rate  mean_age_imp  \\\n",
       "0    All  saudi arabia     industry      3.111111     17.500000   \n",
       "1    All       germany        other     11.764706     41.500000   \n",
       "2    All      multiple     industry      1.818182     33.899366   \n",
       "3    All      multiple     industry      3.611971      6.000000   \n",
       "4    All      multiple     industry      8.532934     41.500000   \n",
       "\n",
       "   AE_total_serious  AE_total_other  subjects_at_risk_serious  \\\n",
       "0               1.0          1082.0                     445.0   \n",
       "1               3.0           100.0                      51.0   \n",
       "2             349.0          1716.0                  145656.0   \n",
       "3             119.0          4625.0                   69144.0   \n",
       "4             140.0          3398.0                   10020.0   \n",
       "\n",
       "   subjects_at_risk_other  AE_serious_freq  AE_other_freq  \\\n",
       "0                  3066.0         0.002222       2.404444   \n",
       "1                  1139.0         0.176471       5.882353   \n",
       "2                  4998.0         0.488112       2.400000   \n",
       "3                 51858.0         0.040936       1.590987   \n",
       "4                 18036.0         0.209581       5.086826   \n",
       "\n",
       "   subjects_at_risk_serious_freq  subjects_at_risk_other_freq  \n",
       "0                       0.988889                     6.813333  \n",
       "1                       3.000000                    67.000000  \n",
       "2                     203.714685                     6.990210  \n",
       "3                      23.785346                    17.839009  \n",
       "4                      15.000000                    27.000000  "
      ]
     },
     "execution_count": 4,
     "metadata": {},
     "output_type": "execute_result"
    }
   ],
   "source": [
    "# Read ML file\n",
    "file_path = './data/vax_trials_ml_df.csv'\n",
    "df_ml = pd.read_csv(file_path)\n",
    "\n",
    "# Display the DataFrame\n",
    "df_ml.head()"
   ]
  },
  {
   "cell_type": "code",
   "execution_count": 5,
   "metadata": {},
   "outputs": [
    {
     "data": {
      "text/html": [
       "<div>\n",
       "<style scoped>\n",
       "    .dataframe tbody tr th:only-of-type {\n",
       "        vertical-align: middle;\n",
       "    }\n",
       "\n",
       "    .dataframe tbody tr th {\n",
       "        vertical-align: top;\n",
       "    }\n",
       "\n",
       "    .dataframe thead th {\n",
       "        text-align: right;\n",
       "    }\n",
       "</style>\n",
       "<table border=\"1\" class=\"dataframe\">\n",
       "  <thead>\n",
       "    <tr style=\"text-align: right;\">\n",
       "      <th></th>\n",
       "      <th>enrollment</th>\n",
       "      <th>actual_duration</th>\n",
       "      <th>dropout_rate</th>\n",
       "      <th>mean_age_imp</th>\n",
       "      <th>AE_total_serious</th>\n",
       "      <th>AE_total_other</th>\n",
       "      <th>subjects_at_risk_serious</th>\n",
       "      <th>subjects_at_risk_other</th>\n",
       "      <th>AE_serious_freq</th>\n",
       "      <th>AE_other_freq</th>\n",
       "      <th>subjects_at_risk_serious_freq</th>\n",
       "      <th>subjects_at_risk_other_freq</th>\n",
       "    </tr>\n",
       "  </thead>\n",
       "  <tbody>\n",
       "    <tr>\n",
       "      <th>count</th>\n",
       "      <td>997.000000</td>\n",
       "      <td>997.000000</td>\n",
       "      <td>997.000000</td>\n",
       "      <td>997.000000</td>\n",
       "      <td>997.000000</td>\n",
       "      <td>997.000000</td>\n",
       "      <td>9.970000e+02</td>\n",
       "      <td>9.970000e+02</td>\n",
       "      <td>997.000000</td>\n",
       "      <td>997.000000</td>\n",
       "      <td>997.000000</td>\n",
       "      <td>997.000000</td>\n",
       "    </tr>\n",
       "    <tr>\n",
       "      <th>mean</th>\n",
       "      <td>1160.324975</td>\n",
       "      <td>20.967904</td>\n",
       "      <td>9.152208</td>\n",
       "      <td>34.001846</td>\n",
       "      <td>386.036108</td>\n",
       "      <td>1968.281846</td>\n",
       "      <td>1.957594e+05</td>\n",
       "      <td>6.059783e+04</td>\n",
       "      <td>0.283318</td>\n",
       "      <td>3.083759</td>\n",
       "      <td>35.151842</td>\n",
       "      <td>53.813923</td>\n",
       "    </tr>\n",
       "    <tr>\n",
       "      <th>std</th>\n",
       "      <td>4147.738651</td>\n",
       "      <td>23.621449</td>\n",
       "      <td>15.659109</td>\n",
       "      <td>10.729662</td>\n",
       "      <td>2203.699966</td>\n",
       "      <td>4415.426753</td>\n",
       "      <td>1.456521e+06</td>\n",
       "      <td>3.996762e+05</td>\n",
       "      <td>0.721446</td>\n",
       "      <td>3.748698</td>\n",
       "      <td>83.417282</td>\n",
       "      <td>151.411402</td>\n",
       "    </tr>\n",
       "    <tr>\n",
       "      <th>min</th>\n",
       "      <td>1.000000</td>\n",
       "      <td>0.000000</td>\n",
       "      <td>0.000000</td>\n",
       "      <td>3.000000</td>\n",
       "      <td>0.000000</td>\n",
       "      <td>0.000000</td>\n",
       "      <td>0.000000e+00</td>\n",
       "      <td>0.000000e+00</td>\n",
       "      <td>0.000000</td>\n",
       "      <td>0.000000</td>\n",
       "      <td>0.000000</td>\n",
       "      <td>0.000000</td>\n",
       "    </tr>\n",
       "    <tr>\n",
       "      <th>25%</th>\n",
       "      <td>101.000000</td>\n",
       "      <td>7.000000</td>\n",
       "      <td>1.055409</td>\n",
       "      <td>33.500000</td>\n",
       "      <td>1.000000</td>\n",
       "      <td>119.000000</td>\n",
       "      <td>8.400000e+01</td>\n",
       "      <td>1.155000e+03</td>\n",
       "      <td>0.004184</td>\n",
       "      <td>0.884000</td>\n",
       "      <td>1.000000</td>\n",
       "      <td>8.000000</td>\n",
       "    </tr>\n",
       "    <tr>\n",
       "      <th>50%</th>\n",
       "      <td>312.000000</td>\n",
       "      <td>14.000000</td>\n",
       "      <td>3.809524</td>\n",
       "      <td>33.899366</td>\n",
       "      <td>10.000000</td>\n",
       "      <td>522.000000</td>\n",
       "      <td>2.112000e+03</td>\n",
       "      <td>4.323000e+03</td>\n",
       "      <td>0.032895</td>\n",
       "      <td>2.171429</td>\n",
       "      <td>7.000000</td>\n",
       "      <td>14.000000</td>\n",
       "    </tr>\n",
       "    <tr>\n",
       "      <th>75%</th>\n",
       "      <td>793.000000</td>\n",
       "      <td>25.000000</td>\n",
       "      <td>9.800520</td>\n",
       "      <td>41.000000</td>\n",
       "      <td>82.000000</td>\n",
       "      <td>2009.000000</td>\n",
       "      <td>2.030900e+04</td>\n",
       "      <td>1.632900e+04</td>\n",
       "      <td>0.194401</td>\n",
       "      <td>3.902954</td>\n",
       "      <td>30.968889</td>\n",
       "      <td>32.000000</td>\n",
       "    </tr>\n",
       "    <tr>\n",
       "      <th>max</th>\n",
       "      <td>84496.000000</td>\n",
       "      <td>255.000000</td>\n",
       "      <td>120.863793</td>\n",
       "      <td>75.000000</td>\n",
       "      <td>50684.000000</td>\n",
       "      <td>58645.000000</td>\n",
       "      <td>2.438349e+07</td>\n",
       "      <td>7.668954e+06</td>\n",
       "      <td>7.351852</td>\n",
       "      <td>55.376392</td>\n",
       "      <td>899.527633</td>\n",
       "      <td>1747.847619</td>\n",
       "    </tr>\n",
       "  </tbody>\n",
       "</table>\n",
       "</div>"
      ],
      "text/plain": [
       "         enrollment  actual_duration  dropout_rate  mean_age_imp  \\\n",
       "count    997.000000       997.000000    997.000000    997.000000   \n",
       "mean    1160.324975        20.967904      9.152208     34.001846   \n",
       "std     4147.738651        23.621449     15.659109     10.729662   \n",
       "min        1.000000         0.000000      0.000000      3.000000   \n",
       "25%      101.000000         7.000000      1.055409     33.500000   \n",
       "50%      312.000000        14.000000      3.809524     33.899366   \n",
       "75%      793.000000        25.000000      9.800520     41.000000   \n",
       "max    84496.000000       255.000000    120.863793     75.000000   \n",
       "\n",
       "       AE_total_serious  AE_total_other  subjects_at_risk_serious  \\\n",
       "count        997.000000      997.000000              9.970000e+02   \n",
       "mean         386.036108     1968.281846              1.957594e+05   \n",
       "std         2203.699966     4415.426753              1.456521e+06   \n",
       "min            0.000000        0.000000              0.000000e+00   \n",
       "25%            1.000000      119.000000              8.400000e+01   \n",
       "50%           10.000000      522.000000              2.112000e+03   \n",
       "75%           82.000000     2009.000000              2.030900e+04   \n",
       "max        50684.000000    58645.000000              2.438349e+07   \n",
       "\n",
       "       subjects_at_risk_other  AE_serious_freq  AE_other_freq  \\\n",
       "count            9.970000e+02       997.000000     997.000000   \n",
       "mean             6.059783e+04         0.283318       3.083759   \n",
       "std              3.996762e+05         0.721446       3.748698   \n",
       "min              0.000000e+00         0.000000       0.000000   \n",
       "25%              1.155000e+03         0.004184       0.884000   \n",
       "50%              4.323000e+03         0.032895       2.171429   \n",
       "75%              1.632900e+04         0.194401       3.902954   \n",
       "max              7.668954e+06         7.351852      55.376392   \n",
       "\n",
       "       subjects_at_risk_serious_freq  subjects_at_risk_other_freq  \n",
       "count                     997.000000                   997.000000  \n",
       "mean                       35.151842                    53.813923  \n",
       "std                        83.417282                   151.411402  \n",
       "min                         0.000000                     0.000000  \n",
       "25%                         1.000000                     8.000000  \n",
       "50%                         7.000000                    14.000000  \n",
       "75%                        30.968889                    32.000000  \n",
       "max                       899.527633                  1747.847619  "
      ]
     },
     "execution_count": 5,
     "metadata": {},
     "output_type": "execute_result"
    }
   ],
   "source": [
    "df_ml.describe()"
   ]
  },
  {
   "cell_type": "code",
   "execution_count": 6,
   "metadata": {},
   "outputs": [
    {
     "data": {
      "text/plain": [
       "nct_id                            object\n",
       "phase                             object\n",
       "enrollment                       float64\n",
       "condition_name                    object\n",
       "actual_duration                  float64\n",
       "gender                            object\n",
       "country                           object\n",
       "agency_class                      object\n",
       "dropout_rate                     float64\n",
       "mean_age_imp                     float64\n",
       "AE_total_serious                 float64\n",
       "AE_total_other                   float64\n",
       "subjects_at_risk_serious         float64\n",
       "subjects_at_risk_other           float64\n",
       "AE_serious_freq                  float64\n",
       "AE_other_freq                    float64\n",
       "subjects_at_risk_serious_freq    float64\n",
       "subjects_at_risk_other_freq      float64\n",
       "dtype: object"
      ]
     },
     "execution_count": 6,
     "metadata": {},
     "output_type": "execute_result"
    }
   ],
   "source": [
    "df_ml.dtypes"
   ]
  },
  {
   "cell_type": "code",
   "execution_count": 7,
   "metadata": {},
   "outputs": [
    {
     "name": "stdout",
     "output_type": "stream",
     "text": [
      "nct_id                           0\n",
      "phase                            0\n",
      "enrollment                       0\n",
      "condition_name                   0\n",
      "actual_duration                  0\n",
      "gender                           0\n",
      "country                          0\n",
      "agency_class                     0\n",
      "dropout_rate                     0\n",
      "mean_age_imp                     0\n",
      "AE_total_serious                 0\n",
      "AE_total_other                   0\n",
      "subjects_at_risk_serious         0\n",
      "subjects_at_risk_other           0\n",
      "AE_serious_freq                  0\n",
      "AE_other_freq                    0\n",
      "subjects_at_risk_serious_freq    0\n",
      "subjects_at_risk_other_freq      0\n",
      "dtype: int64\n"
     ]
    }
   ],
   "source": [
    "# Count the number of missing values in each column\n",
    "na_counts = df_ml.isna().sum()\n",
    "print(na_counts)"
   ]
  },
  {
   "cell_type": "markdown",
   "metadata": {},
   "source": [
    "Visualize numeric features using histograms and box plots"
   ]
  },
  {
   "cell_type": "code",
   "execution_count": 8,
   "metadata": {},
   "outputs": [],
   "source": [
    "# define function to add a boxplot on top of a histogram\n",
    "def creating_box_hist(column, df, bin):\n",
    "    # Create a figure composed of two matplotlib.Axes objects (ax_box and ax_hist)\n",
    "    f, (ax_box, ax_hist) = plt.subplots(2, sharex=True, gridspec_kw={\"height_ratios\": (.15, .85)})    \n",
    "\n",
    "    # Assigning a graph to each ax\n",
    "    sns.boxplot(x=column, data=df, ax=ax_box, color='blueviolet', flierprops=dict(marker='o', markerfacecolor='darkgray'))\n",
    "    sns.histplot(data=df, x=column, ax=ax_hist, bins=bin, color='blueviolet', kde=True)\n",
    "\n",
    "    # Remove x axis name for the boxplot\n",
    "    ax_box.set(xlabel='')\n",
    "    plt.show()"
   ]
  },
  {
   "cell_type": "code",
   "execution_count": 9,
   "metadata": {},
   "outputs": [
    {
     "data": {
      "image/png": "[encoded data removed]",
      "text/plain": [
       "<Figure size 432x288 with 2 Axes>"
      ]
     },
     "metadata": {
      "needs_background": "light"
     },
     "output_type": "display_data"
    }
   ],
   "source": [
    "# Plot dropout rate\n",
    "creating_box_hist('dropout_rate', df_ml, 10)"
   ]
  },
  {
   "cell_type": "code",
   "execution_count": 10,
   "metadata": {},
   "outputs": [
    {
     "data": {
      "image/png": "[encoded data removed]",
      "text/plain": [
       "<Figure size 432x288 with 2 Axes>"
      ]
     },
     "metadata": {
      "needs_background": "light"
     },
     "output_type": "display_data"
    }
   ],
   "source": [
    "# Plot age\n",
    "creating_box_hist('mean_age_imp', df_ml, 10)"
   ]
  },
  {
   "cell_type": "code",
   "execution_count": 11,
   "metadata": {},
   "outputs": [
    {
     "data": {
      "image/png": "[encoded data removed]",
      "text/plain": [
       "<Figure size 432x288 with 2 Axes>"
      ]
     },
     "metadata": {
      "needs_background": "light"
     },
     "output_type": "display_data"
    }
   ],
   "source": [
    "# Plot enrollment\n",
    "creating_box_hist('enrollment', df_ml, 100)"
   ]
  },
  {
   "cell_type": "code",
   "execution_count": 12,
   "metadata": {},
   "outputs": [
    {
     "data": {
      "image/png": "[encoded data removed]",
      "text/plain": [
       "<Figure size 432x288 with 2 Axes>"
      ]
     },
     "metadata": {
      "needs_background": "light"
     },
     "output_type": "display_data"
    }
   ],
   "source": [
    "# Plot duration\n",
    "creating_box_hist('actual_duration', df_ml, 10)"
   ]
  },
  {
   "cell_type": "code",
   "execution_count": 13,
   "metadata": {},
   "outputs": [
    {
     "data": {
      "image/png": "[encoded data removed]",
      "text/plain": [
       "<Figure size 432x288 with 2 Axes>"
      ]
     },
     "metadata": {
      "needs_background": "light"
     },
     "output_type": "display_data"
    },
    {
     "data": {
      "image/png": "[encoded data removed]",
      "text/plain": [
       "<Figure size 432x288 with 2 Axes>"
      ]
     },
     "metadata": {
      "needs_background": "light"
     },
     "output_type": "display_data"
    }
   ],
   "source": [
    "# Plot number of serious adverse events \n",
    "creating_box_hist('AE_total_serious', df_ml, 20)\n",
    "creating_box_hist('AE_serious_freq', df_ml, 20)"
   ]
  },
  {
   "cell_type": "code",
   "execution_count": 14,
   "metadata": {},
   "outputs": [
    {
     "data": {
      "image/png": "[encoded data removed]",
      "text/plain": [
       "<Figure size 432x288 with 2 Axes>"
      ]
     },
     "metadata": {
      "needs_background": "light"
     },
     "output_type": "display_data"
    },
    {
     "data": {
      "image/png": "[encoded data removed]",
      "text/plain": [
       "<Figure size 432x288 with 2 Axes>"
      ]
     },
     "metadata": {
      "needs_background": "light"
     },
     "output_type": "display_data"
    }
   ],
   "source": [
    "# Plot number of other types of adverse events \n",
    "creating_box_hist('AE_total_other', df_ml, 20)\n",
    "creating_box_hist('AE_other_freq', df_ml, 20)"
   ]
  },
  {
   "cell_type": "code",
   "execution_count": 15,
   "metadata": {},
   "outputs": [
    {
     "data": {
      "image/png": "[encoded data removed]",
      "text/plain": [
       "<Figure size 432x288 with 2 Axes>"
      ]
     },
     "metadata": {
      "needs_background": "light"
     },
     "output_type": "display_data"
    },
    {
     "data": {
      "image/png": "[encoded data removed]",
      "text/plain": [
       "<Figure size 432x288 with 2 Axes>"
      ]
     },
     "metadata": {
      "needs_background": "light"
     },
     "output_type": "display_data"
    }
   ],
   "source": [
    "# Plot number of subjects at risk of having a serious adverse events \n",
    "creating_box_hist('subjects_at_risk_serious', df_ml, 20)\n",
    "creating_box_hist('subjects_at_risk_serious_freq', df_ml, 10)"
   ]
  },
  {
   "cell_type": "code",
   "execution_count": 16,
   "metadata": {},
   "outputs": [
    {
     "data": {
      "image/png": "[encoded data removed]",
      "text/plain": [
       "<Figure size 432x288 with 2 Axes>"
      ]
     },
     "metadata": {
      "needs_background": "light"
     },
     "output_type": "display_data"
    },
    {
     "data": {
      "image/png": "[encoded data removed]",
      "text/plain": [
       "<Figure size 432x288 with 2 Axes>"
      ]
     },
     "metadata": {
      "needs_background": "light"
     },
     "output_type": "display_data"
    }
   ],
   "source": [
    "# Plot number of subjects at risk of having other types adverse events \n",
    "creating_box_hist('subjects_at_risk_other', df_ml, 20)\n",
    "creating_box_hist('subjects_at_risk_other_freq', df_ml, 20)"
   ]
  },
  {
   "cell_type": "markdown",
   "metadata": {},
   "source": [
    "Visualize categorical variables using count plot"
   ]
  },
  {
   "cell_type": "code",
   "execution_count": 17,
   "metadata": {},
   "outputs": [
    {
     "data": {
      "image/png": "[encoded data removed]",
      "text/plain": [
       "<Figure size 432x288 with 1 Axes>"
      ]
     },
     "metadata": {
      "needs_background": "light"
     },
     "output_type": "display_data"
    }
   ],
   "source": [
    "# Plot a countplot:\n",
    "sns.countplot(x='gender', data=df_ml, palette='Set2')\n",
    "plt.title('Distribution of Gender in Vaccine Clinical Trials')\n",
    "plt.xlabel('Gender')\n",
    "plt.ylabel('Count')\n",
    "plt.show()"
   ]
  },
  {
   "cell_type": "code",
   "execution_count": 18,
   "metadata": {},
   "outputs": [
    {
     "data": {
      "image/png": "[encoded data removed]",
      "text/plain": [
       "<Figure size 432x288 with 1 Axes>"
      ]
     },
     "metadata": {
      "needs_background": "light"
     },
     "output_type": "display_data"
    }
   ],
   "source": [
    "# Plot a countplot: agency class\n",
    "sns.countplot(x='agency_class', data=df_ml, palette='Set2')\n",
    "plt.title('Distribution of Sponsors in Vaccine Clinical Trials')\n",
    "plt.xlabel('Sponsor')\n",
    "plt.ylabel('Count')\n",
    "plt.show()"
   ]
  },
  {
   "cell_type": "code",
   "execution_count": 19,
   "metadata": {},
   "outputs": [
    {
     "data": {
      "image/png": "[encoded data removed]",
      "text/plain": [
       "<Figure size 432x288 with 1 Axes>"
      ]
     },
     "metadata": {
      "needs_background": "light"
     },
     "output_type": "display_data"
    }
   ],
   "source": [
    "# Plot a countplot: condition name\n",
    "sns.countplot(x='condition_name', data=df_ml, palette='Set2')\n",
    "plt.title('Distribution of Conditions in Vaccine Clinical Trials')\n",
    "plt.xlabel('Condition')\n",
    "plt.ylabel('Count')\n",
    "plt.xticks(rotation=90)\n",
    "plt.show()"
   ]
  },
  {
   "cell_type": "code",
   "execution_count": 20,
   "metadata": {},
   "outputs": [
    {
     "data": {
      "image/png": "[encoded data removed]",
      "text/plain": [
       "<Figure size 432x288 with 1 Axes>"
      ]
     },
     "metadata": {
      "needs_background": "light"
     },
     "output_type": "display_data"
    }
   ],
   "source": [
    "# Plot a countplot: phase\n",
    "sns.countplot(x='phase', data=df_ml, palette='Set2')\n",
    "plt.title('Distribution of Phases in Vaccine Clinical Trials')\n",
    "plt.xlabel('Condition')\n",
    "plt.ylabel('Count')\n",
    "plt.xticks(rotation=90)\n",
    "plt.show()"
   ]
  },
  {
   "cell_type": "markdown",
   "metadata": {},
   "source": [
    "### Preprocessing the Data for Machine Learning Models\n",
    "\n",
    "1. **Data Encoding:**\n",
    "   - Encode categorical variables into numerical representations using techniques like one-hot encoding, label encoding binary enconding.\n",
    "\n",
    "2. **Normalization and Scaling:**\n",
    "   - Normalize or scale numerical features to ensure uniformity and improve model performance. \n",
    "   - Important for distance-based algorithms (eg. KNN) and regularization methods (L1 and L2).\n",
    "\n",
    "3. **Feature Selection Methods**\n",
    "    - Techniques include: filter, wrapper, and embedded methods.\n",
    "\n",
    "4. **Data Splitting:**\n",
    "   - Split the dataset into training and testing sets for machine learning models."
   ]
  },
  {
   "cell_type": "markdown",
   "metadata": {},
   "source": [
    "- Data encoding: \n",
    "\n",
    "    - phase\n",
    "    - gender\n",
    "    - agency_class\n",
    "    - country\n"
   ]
  },
  {
   "cell_type": "code",
   "execution_count": 21,
   "metadata": {},
   "outputs": [
    {
     "data": {
      "text/html": [
       "<div>\n",
       "<style scoped>\n",
       "    .dataframe tbody tr th:only-of-type {\n",
       "        vertical-align: middle;\n",
       "    }\n",
       "\n",
       "    .dataframe tbody tr th {\n",
       "        vertical-align: top;\n",
       "    }\n",
       "\n",
       "    .dataframe thead th {\n",
       "        text-align: right;\n",
       "    }\n",
       "</style>\n",
       "<table border=\"1\" class=\"dataframe\">\n",
       "  <thead>\n",
       "    <tr style=\"text-align: right;\">\n",
       "      <th></th>\n",
       "      <th>nct_id</th>\n",
       "      <th>phase</th>\n",
       "      <th>enrollment</th>\n",
       "      <th>condition_name</th>\n",
       "      <th>actual_duration</th>\n",
       "      <th>gender</th>\n",
       "      <th>country</th>\n",
       "      <th>agency_class</th>\n",
       "      <th>dropout_rate</th>\n",
       "      <th>mean_age_imp</th>\n",
       "      <th>AE_total_serious</th>\n",
       "      <th>AE_total_other</th>\n",
       "      <th>subjects_at_risk_serious</th>\n",
       "      <th>subjects_at_risk_other</th>\n",
       "      <th>AE_serious_freq</th>\n",
       "      <th>AE_other_freq</th>\n",
       "      <th>subjects_at_risk_serious_freq</th>\n",
       "      <th>subjects_at_risk_other_freq</th>\n",
       "      <th>phase_encoded</th>\n",
       "    </tr>\n",
       "  </thead>\n",
       "  <tbody>\n",
       "    <tr>\n",
       "      <th>0</th>\n",
       "      <td>NCT00444951</td>\n",
       "      <td>Phase 3</td>\n",
       "      <td>450.0</td>\n",
       "      <td>infectious diseases</td>\n",
       "      <td>12.0</td>\n",
       "      <td>All</td>\n",
       "      <td>saudi arabia</td>\n",
       "      <td>industry</td>\n",
       "      <td>3.111111</td>\n",
       "      <td>17.500000</td>\n",
       "      <td>1.0</td>\n",
       "      <td>1082.0</td>\n",
       "      <td>445.0</td>\n",
       "      <td>3066.0</td>\n",
       "      <td>0.002222</td>\n",
       "      <td>2.404444</td>\n",
       "      <td>0.988889</td>\n",
       "      <td>6.813333</td>\n",
       "      <td>6</td>\n",
       "    </tr>\n",
       "    <tr>\n",
       "      <th>1</th>\n",
       "      <td>NCT00623831</td>\n",
       "      <td>Phase 1</td>\n",
       "      <td>17.0</td>\n",
       "      <td>cancer</td>\n",
       "      <td>60.0</td>\n",
       "      <td>All</td>\n",
       "      <td>germany</td>\n",
       "      <td>other</td>\n",
       "      <td>11.764706</td>\n",
       "      <td>41.500000</td>\n",
       "      <td>3.0</td>\n",
       "      <td>100.0</td>\n",
       "      <td>51.0</td>\n",
       "      <td>1139.0</td>\n",
       "      <td>0.176471</td>\n",
       "      <td>5.882353</td>\n",
       "      <td>3.000000</td>\n",
       "      <td>67.000000</td>\n",
       "      <td>2</td>\n",
       "    </tr>\n",
       "    <tr>\n",
       "      <th>2</th>\n",
       "      <td>NCT00434577</td>\n",
       "      <td>Phase 2</td>\n",
       "      <td>715.0</td>\n",
       "      <td>infectious diseases</td>\n",
       "      <td>7.0</td>\n",
       "      <td>All</td>\n",
       "      <td>multiple</td>\n",
       "      <td>industry</td>\n",
       "      <td>1.818182</td>\n",
       "      <td>33.899366</td>\n",
       "      <td>349.0</td>\n",
       "      <td>1716.0</td>\n",
       "      <td>145656.0</td>\n",
       "      <td>4998.0</td>\n",
       "      <td>0.488112</td>\n",
       "      <td>2.400000</td>\n",
       "      <td>203.714685</td>\n",
       "      <td>6.990210</td>\n",
       "      <td>4</td>\n",
       "    </tr>\n",
       "    <tr>\n",
       "      <th>3</th>\n",
       "      <td>NCT00616421</td>\n",
       "      <td>Phase 3</td>\n",
       "      <td>2907.0</td>\n",
       "      <td>infectious diseases</td>\n",
       "      <td>13.0</td>\n",
       "      <td>All</td>\n",
       "      <td>multiple</td>\n",
       "      <td>industry</td>\n",
       "      <td>3.611971</td>\n",
       "      <td>6.000000</td>\n",
       "      <td>119.0</td>\n",
       "      <td>4625.0</td>\n",
       "      <td>69144.0</td>\n",
       "      <td>51858.0</td>\n",
       "      <td>0.040936</td>\n",
       "      <td>1.590987</td>\n",
       "      <td>23.785346</td>\n",
       "      <td>17.839009</td>\n",
       "      <td>6</td>\n",
       "    </tr>\n",
       "    <tr>\n",
       "      <th>4</th>\n",
       "      <td>NCT04515147</td>\n",
       "      <td>Phase 2</td>\n",
       "      <td>668.0</td>\n",
       "      <td>infectious diseases</td>\n",
       "      <td>17.0</td>\n",
       "      <td>All</td>\n",
       "      <td>multiple</td>\n",
       "      <td>industry</td>\n",
       "      <td>8.532934</td>\n",
       "      <td>41.500000</td>\n",
       "      <td>140.0</td>\n",
       "      <td>3398.0</td>\n",
       "      <td>10020.0</td>\n",
       "      <td>18036.0</td>\n",
       "      <td>0.209581</td>\n",
       "      <td>5.086826</td>\n",
       "      <td>15.000000</td>\n",
       "      <td>27.000000</td>\n",
       "      <td>4</td>\n",
       "    </tr>\n",
       "  </tbody>\n",
       "</table>\n",
       "</div>"
      ],
      "text/plain": [
       "        nct_id    phase  enrollment       condition_name  actual_duration  \\\n",
       "0  NCT00444951  Phase 3       450.0  infectious diseases             12.0   \n",
       "1  NCT00623831  Phase 1        17.0               cancer             60.0   \n",
       "2  NCT00434577  Phase 2       715.0  infectious diseases              7.0   \n",
       "3  NCT00616421  Phase 3      2907.0  infectious diseases             13.0   \n",
       "4  NCT04515147  Phase 2       668.0  infectious diseases             17.0   \n",
       "\n",
       "  gender       country agency_class  dropout_rate  mean_age_imp  \\\n",
       "0    All  saudi arabia     industry      3.111111     17.500000   \n",
       "1    All       germany        other     11.764706     41.500000   \n",
       "2    All      multiple     industry      1.818182     33.899366   \n",
       "3    All      multiple     industry      3.611971      6.000000   \n",
       "4    All      multiple     industry      8.532934     41.500000   \n",
       "\n",
       "   AE_total_serious  AE_total_other  subjects_at_risk_serious  \\\n",
       "0               1.0          1082.0                     445.0   \n",
       "1               3.0           100.0                      51.0   \n",
       "2             349.0          1716.0                  145656.0   \n",
       "3             119.0          4625.0                   69144.0   \n",
       "4             140.0          3398.0                   10020.0   \n",
       "\n",
       "   subjects_at_risk_other  AE_serious_freq  AE_other_freq  \\\n",
       "0                  3066.0         0.002222       2.404444   \n",
       "1                  1139.0         0.176471       5.882353   \n",
       "2                  4998.0         0.488112       2.400000   \n",
       "3                 51858.0         0.040936       1.590987   \n",
       "4                 18036.0         0.209581       5.086826   \n",
       "\n",
       "   subjects_at_risk_serious_freq  subjects_at_risk_other_freq  phase_encoded  \n",
       "0                       0.988889                     6.813333              6  \n",
       "1                       3.000000                    67.000000              2  \n",
       "2                     203.714685                     6.990210              4  \n",
       "3                      23.785346                    17.839009              6  \n",
       "4                      15.000000                    27.000000              4  "
      ]
     },
     "execution_count": 21,
     "metadata": {},
     "output_type": "execute_result"
    }
   ],
   "source": [
    "# Define mapping for phase categories to numerical values\n",
    "phase_mapping = {\n",
    "    'Early Phase 1': 1,\n",
    "    'Phase 1': 2,\n",
    "    'Phase 1/Phase 2': 3,\n",
    "    'Phase 2': 4,\n",
    "    'Phase 2/Phase 3': 5,\n",
    "    'Phase 3': 6,\n",
    "    'Phase 4': 7,\n",
    "    'Not Applicable': 0\n",
    "}\n",
    "\n",
    "# Map the 'phase' column to numerical values\n",
    "df_ml['phase_encoded'] = df_ml['phase'].map(phase_mapping)\n",
    "\n",
    "# Display df\n",
    "df_ml.head()"
   ]
  },
  {
   "cell_type": "code",
   "execution_count": 22,
   "metadata": {},
   "outputs": [
    {
     "data": {
      "text/html": [
       "<div>\n",
       "<style scoped>\n",
       "    .dataframe tbody tr th:only-of-type {\n",
       "        vertical-align: middle;\n",
       "    }\n",
       "\n",
       "    .dataframe tbody tr th {\n",
       "        vertical-align: top;\n",
       "    }\n",
       "\n",
       "    .dataframe thead th {\n",
       "        text-align: right;\n",
       "    }\n",
       "</style>\n",
       "<table border=\"1\" class=\"dataframe\">\n",
       "  <thead>\n",
       "    <tr style=\"text-align: right;\">\n",
       "      <th></th>\n",
       "      <th>nct_id</th>\n",
       "      <th>phase</th>\n",
       "      <th>enrollment</th>\n",
       "      <th>condition_name</th>\n",
       "      <th>actual_duration</th>\n",
       "      <th>gender</th>\n",
       "      <th>country</th>\n",
       "      <th>agency_class</th>\n",
       "      <th>dropout_rate</th>\n",
       "      <th>mean_age_imp</th>\n",
       "      <th>AE_total_serious</th>\n",
       "      <th>AE_total_other</th>\n",
       "      <th>subjects_at_risk_serious</th>\n",
       "      <th>subjects_at_risk_other</th>\n",
       "      <th>AE_serious_freq</th>\n",
       "      <th>AE_other_freq</th>\n",
       "      <th>subjects_at_risk_serious_freq</th>\n",
       "      <th>subjects_at_risk_other_freq</th>\n",
       "      <th>phase_encoded</th>\n",
       "      <th>gender_encoded</th>\n",
       "    </tr>\n",
       "  </thead>\n",
       "  <tbody>\n",
       "    <tr>\n",
       "      <th>0</th>\n",
       "      <td>NCT00444951</td>\n",
       "      <td>Phase 3</td>\n",
       "      <td>450.0</td>\n",
       "      <td>infectious diseases</td>\n",
       "      <td>12.0</td>\n",
       "      <td>All</td>\n",
       "      <td>saudi arabia</td>\n",
       "      <td>industry</td>\n",
       "      <td>3.111111</td>\n",
       "      <td>17.500000</td>\n",
       "      <td>1.0</td>\n",
       "      <td>1082.0</td>\n",
       "      <td>445.0</td>\n",
       "      <td>3066.0</td>\n",
       "      <td>0.002222</td>\n",
       "      <td>2.404444</td>\n",
       "      <td>0.988889</td>\n",
       "      <td>6.813333</td>\n",
       "      <td>6</td>\n",
       "      <td>0</td>\n",
       "    </tr>\n",
       "    <tr>\n",
       "      <th>1</th>\n",
       "      <td>NCT00623831</td>\n",
       "      <td>Phase 1</td>\n",
       "      <td>17.0</td>\n",
       "      <td>cancer</td>\n",
       "      <td>60.0</td>\n",
       "      <td>All</td>\n",
       "      <td>germany</td>\n",
       "      <td>other</td>\n",
       "      <td>11.764706</td>\n",
       "      <td>41.500000</td>\n",
       "      <td>3.0</td>\n",
       "      <td>100.0</td>\n",
       "      <td>51.0</td>\n",
       "      <td>1139.0</td>\n",
       "      <td>0.176471</td>\n",
       "      <td>5.882353</td>\n",
       "      <td>3.000000</td>\n",
       "      <td>67.000000</td>\n",
       "      <td>2</td>\n",
       "      <td>0</td>\n",
       "    </tr>\n",
       "    <tr>\n",
       "      <th>2</th>\n",
       "      <td>NCT00434577</td>\n",
       "      <td>Phase 2</td>\n",
       "      <td>715.0</td>\n",
       "      <td>infectious diseases</td>\n",
       "      <td>7.0</td>\n",
       "      <td>All</td>\n",
       "      <td>multiple</td>\n",
       "      <td>industry</td>\n",
       "      <td>1.818182</td>\n",
       "      <td>33.899366</td>\n",
       "      <td>349.0</td>\n",
       "      <td>1716.0</td>\n",
       "      <td>145656.0</td>\n",
       "      <td>4998.0</td>\n",
       "      <td>0.488112</td>\n",
       "      <td>2.400000</td>\n",
       "      <td>203.714685</td>\n",
       "      <td>6.990210</td>\n",
       "      <td>4</td>\n",
       "      <td>0</td>\n",
       "    </tr>\n",
       "    <tr>\n",
       "      <th>3</th>\n",
       "      <td>NCT00616421</td>\n",
       "      <td>Phase 3</td>\n",
       "      <td>2907.0</td>\n",
       "      <td>infectious diseases</td>\n",
       "      <td>13.0</td>\n",
       "      <td>All</td>\n",
       "      <td>multiple</td>\n",
       "      <td>industry</td>\n",
       "      <td>3.611971</td>\n",
       "      <td>6.000000</td>\n",
       "      <td>119.0</td>\n",
       "      <td>4625.0</td>\n",
       "      <td>69144.0</td>\n",
       "      <td>51858.0</td>\n",
       "      <td>0.040936</td>\n",
       "      <td>1.590987</td>\n",
       "      <td>23.785346</td>\n",
       "      <td>17.839009</td>\n",
       "      <td>6</td>\n",
       "      <td>0</td>\n",
       "    </tr>\n",
       "    <tr>\n",
       "      <th>4</th>\n",
       "      <td>NCT04515147</td>\n",
       "      <td>Phase 2</td>\n",
       "      <td>668.0</td>\n",
       "      <td>infectious diseases</td>\n",
       "      <td>17.0</td>\n",
       "      <td>All</td>\n",
       "      <td>multiple</td>\n",
       "      <td>industry</td>\n",
       "      <td>8.532934</td>\n",
       "      <td>41.500000</td>\n",
       "      <td>140.0</td>\n",
       "      <td>3398.0</td>\n",
       "      <td>10020.0</td>\n",
       "      <td>18036.0</td>\n",
       "      <td>0.209581</td>\n",
       "      <td>5.086826</td>\n",
       "      <td>15.000000</td>\n",
       "      <td>27.000000</td>\n",
       "      <td>4</td>\n",
       "      <td>0</td>\n",
       "    </tr>\n",
       "  </tbody>\n",
       "</table>\n",
       "</div>"
      ],
      "text/plain": [
       "        nct_id    phase  enrollment       condition_name  actual_duration  \\\n",
       "0  NCT00444951  Phase 3       450.0  infectious diseases             12.0   \n",
       "1  NCT00623831  Phase 1        17.0               cancer             60.0   \n",
       "2  NCT00434577  Phase 2       715.0  infectious diseases              7.0   \n",
       "3  NCT00616421  Phase 3      2907.0  infectious diseases             13.0   \n",
       "4  NCT04515147  Phase 2       668.0  infectious diseases             17.0   \n",
       "\n",
       "  gender       country agency_class  dropout_rate  mean_age_imp  \\\n",
       "0    All  saudi arabia     industry      3.111111     17.500000   \n",
       "1    All       germany        other     11.764706     41.500000   \n",
       "2    All      multiple     industry      1.818182     33.899366   \n",
       "3    All      multiple     industry      3.611971      6.000000   \n",
       "4    All      multiple     industry      8.532934     41.500000   \n",
       "\n",
       "   AE_total_serious  AE_total_other  subjects_at_risk_serious  \\\n",
       "0               1.0          1082.0                     445.0   \n",
       "1               3.0           100.0                      51.0   \n",
       "2             349.0          1716.0                  145656.0   \n",
       "3             119.0          4625.0                   69144.0   \n",
       "4             140.0          3398.0                   10020.0   \n",
       "\n",
       "   subjects_at_risk_other  AE_serious_freq  AE_other_freq  \\\n",
       "0                  3066.0         0.002222       2.404444   \n",
       "1                  1139.0         0.176471       5.882353   \n",
       "2                  4998.0         0.488112       2.400000   \n",
       "3                 51858.0         0.040936       1.590987   \n",
       "4                 18036.0         0.209581       5.086826   \n",
       "\n",
       "   subjects_at_risk_serious_freq  subjects_at_risk_other_freq  phase_encoded  \\\n",
       "0                       0.988889                     6.813333              6   \n",
       "1                       3.000000                    67.000000              2   \n",
       "2                     203.714685                     6.990210              4   \n",
       "3                      23.785346                    17.839009              6   \n",
       "4                      15.000000                    27.000000              4   \n",
       "\n",
       "   gender_encoded  \n",
       "0               0  \n",
       "1               0  \n",
       "2               0  \n",
       "3               0  \n",
       "4               0  "
      ]
     },
     "execution_count": 22,
     "metadata": {},
     "output_type": "execute_result"
    }
   ],
   "source": [
    "# Initialize the LabelEncoder\n",
    "le = LabelEncoder()\n",
    "\n",
    "# Encode the 'gender' column\n",
    "df_ml['gender_encoded'] = le.fit_transform(df_ml['gender'])\n",
    "\n",
    "# Display the DataFrame with the new column\n",
    "df_ml.head()"
   ]
  },
  {
   "cell_type": "code",
   "execution_count": 23,
   "metadata": {},
   "outputs": [
    {
     "data": {
      "text/html": [
       "<div>\n",
       "<style scoped>\n",
       "    .dataframe tbody tr th:only-of-type {\n",
       "        vertical-align: middle;\n",
       "    }\n",
       "\n",
       "    .dataframe tbody tr th {\n",
       "        vertical-align: top;\n",
       "    }\n",
       "\n",
       "    .dataframe thead th {\n",
       "        text-align: right;\n",
       "    }\n",
       "</style>\n",
       "<table border=\"1\" class=\"dataframe\">\n",
       "  <thead>\n",
       "    <tr style=\"text-align: right;\">\n",
       "      <th></th>\n",
       "      <th>nct_id</th>\n",
       "      <th>phase</th>\n",
       "      <th>enrollment</th>\n",
       "      <th>condition_name</th>\n",
       "      <th>actual_duration</th>\n",
       "      <th>gender</th>\n",
       "      <th>country</th>\n",
       "      <th>agency_class</th>\n",
       "      <th>dropout_rate</th>\n",
       "      <th>mean_age_imp</th>\n",
       "      <th>...</th>\n",
       "      <th>AE_total_other</th>\n",
       "      <th>subjects_at_risk_serious</th>\n",
       "      <th>subjects_at_risk_other</th>\n",
       "      <th>AE_serious_freq</th>\n",
       "      <th>AE_other_freq</th>\n",
       "      <th>subjects_at_risk_serious_freq</th>\n",
       "      <th>subjects_at_risk_other_freq</th>\n",
       "      <th>phase_encoded</th>\n",
       "      <th>gender_encoded</th>\n",
       "      <th>agency_class_encoded</th>\n",
       "    </tr>\n",
       "  </thead>\n",
       "  <tbody>\n",
       "    <tr>\n",
       "      <th>0</th>\n",
       "      <td>NCT00444951</td>\n",
       "      <td>Phase 3</td>\n",
       "      <td>450.0</td>\n",
       "      <td>infectious diseases</td>\n",
       "      <td>12.0</td>\n",
       "      <td>All</td>\n",
       "      <td>saudi arabia</td>\n",
       "      <td>industry</td>\n",
       "      <td>3.111111</td>\n",
       "      <td>17.500000</td>\n",
       "      <td>...</td>\n",
       "      <td>1082.0</td>\n",
       "      <td>445.0</td>\n",
       "      <td>3066.0</td>\n",
       "      <td>0.002222</td>\n",
       "      <td>2.404444</td>\n",
       "      <td>0.988889</td>\n",
       "      <td>6.813333</td>\n",
       "      <td>6</td>\n",
       "      <td>0</td>\n",
       "      <td>0</td>\n",
       "    </tr>\n",
       "    <tr>\n",
       "      <th>1</th>\n",
       "      <td>NCT00623831</td>\n",
       "      <td>Phase 1</td>\n",
       "      <td>17.0</td>\n",
       "      <td>cancer</td>\n",
       "      <td>60.0</td>\n",
       "      <td>All</td>\n",
       "      <td>germany</td>\n",
       "      <td>other</td>\n",
       "      <td>11.764706</td>\n",
       "      <td>41.500000</td>\n",
       "      <td>...</td>\n",
       "      <td>100.0</td>\n",
       "      <td>51.0</td>\n",
       "      <td>1139.0</td>\n",
       "      <td>0.176471</td>\n",
       "      <td>5.882353</td>\n",
       "      <td>3.000000</td>\n",
       "      <td>67.000000</td>\n",
       "      <td>2</td>\n",
       "      <td>0</td>\n",
       "      <td>1</td>\n",
       "    </tr>\n",
       "    <tr>\n",
       "      <th>2</th>\n",
       "      <td>NCT00434577</td>\n",
       "      <td>Phase 2</td>\n",
       "      <td>715.0</td>\n",
       "      <td>infectious diseases</td>\n",
       "      <td>7.0</td>\n",
       "      <td>All</td>\n",
       "      <td>multiple</td>\n",
       "      <td>industry</td>\n",
       "      <td>1.818182</td>\n",
       "      <td>33.899366</td>\n",
       "      <td>...</td>\n",
       "      <td>1716.0</td>\n",
       "      <td>145656.0</td>\n",
       "      <td>4998.0</td>\n",
       "      <td>0.488112</td>\n",
       "      <td>2.400000</td>\n",
       "      <td>203.714685</td>\n",
       "      <td>6.990210</td>\n",
       "      <td>4</td>\n",
       "      <td>0</td>\n",
       "      <td>0</td>\n",
       "    </tr>\n",
       "    <tr>\n",
       "      <th>3</th>\n",
       "      <td>NCT00616421</td>\n",
       "      <td>Phase 3</td>\n",
       "      <td>2907.0</td>\n",
       "      <td>infectious diseases</td>\n",
       "      <td>13.0</td>\n",
       "      <td>All</td>\n",
       "      <td>multiple</td>\n",
       "      <td>industry</td>\n",
       "      <td>3.611971</td>\n",
       "      <td>6.000000</td>\n",
       "      <td>...</td>\n",
       "      <td>4625.0</td>\n",
       "      <td>69144.0</td>\n",
       "      <td>51858.0</td>\n",
       "      <td>0.040936</td>\n",
       "      <td>1.590987</td>\n",
       "      <td>23.785346</td>\n",
       "      <td>17.839009</td>\n",
       "      <td>6</td>\n",
       "      <td>0</td>\n",
       "      <td>0</td>\n",
       "    </tr>\n",
       "    <tr>\n",
       "      <th>4</th>\n",
       "      <td>NCT04515147</td>\n",
       "      <td>Phase 2</td>\n",
       "      <td>668.0</td>\n",
       "      <td>infectious diseases</td>\n",
       "      <td>17.0</td>\n",
       "      <td>All</td>\n",
       "      <td>multiple</td>\n",
       "      <td>industry</td>\n",
       "      <td>8.532934</td>\n",
       "      <td>41.500000</td>\n",
       "      <td>...</td>\n",
       "      <td>3398.0</td>\n",
       "      <td>10020.0</td>\n",
       "      <td>18036.0</td>\n",
       "      <td>0.209581</td>\n",
       "      <td>5.086826</td>\n",
       "      <td>15.000000</td>\n",
       "      <td>27.000000</td>\n",
       "      <td>4</td>\n",
       "      <td>0</td>\n",
       "      <td>0</td>\n",
       "    </tr>\n",
       "  </tbody>\n",
       "</table>\n",
       "<p>5 rows × 21 columns</p>\n",
       "</div>"
      ],
      "text/plain": [
       "        nct_id    phase  enrollment       condition_name  actual_duration  \\\n",
       "0  NCT00444951  Phase 3       450.0  infectious diseases             12.0   \n",
       "1  NCT00623831  Phase 1        17.0               cancer             60.0   \n",
       "2  NCT00434577  Phase 2       715.0  infectious diseases              7.0   \n",
       "3  NCT00616421  Phase 3      2907.0  infectious diseases             13.0   \n",
       "4  NCT04515147  Phase 2       668.0  infectious diseases             17.0   \n",
       "\n",
       "  gender       country agency_class  dropout_rate  mean_age_imp  ...  \\\n",
       "0    All  saudi arabia     industry      3.111111     17.500000  ...   \n",
       "1    All       germany        other     11.764706     41.500000  ...   \n",
       "2    All      multiple     industry      1.818182     33.899366  ...   \n",
       "3    All      multiple     industry      3.611971      6.000000  ...   \n",
       "4    All      multiple     industry      8.532934     41.500000  ...   \n",
       "\n",
       "   AE_total_other  subjects_at_risk_serious  subjects_at_risk_other  \\\n",
       "0          1082.0                     445.0                  3066.0   \n",
       "1           100.0                      51.0                  1139.0   \n",
       "2          1716.0                  145656.0                  4998.0   \n",
       "3          4625.0                   69144.0                 51858.0   \n",
       "4          3398.0                   10020.0                 18036.0   \n",
       "\n",
       "   AE_serious_freq  AE_other_freq  subjects_at_risk_serious_freq  \\\n",
       "0         0.002222       2.404444                       0.988889   \n",
       "1         0.176471       5.882353                       3.000000   \n",
       "2         0.488112       2.400000                     203.714685   \n",
       "3         0.040936       1.590987                      23.785346   \n",
       "4         0.209581       5.086826                      15.000000   \n",
       "\n",
       "   subjects_at_risk_other_freq  phase_encoded  gender_encoded  \\\n",
       "0                     6.813333              6               0   \n",
       "1                    67.000000              2               0   \n",
       "2                     6.990210              4               0   \n",
       "3                    17.839009              6               0   \n",
       "4                    27.000000              4               0   \n",
       "\n",
       "   agency_class_encoded  \n",
       "0                     0  \n",
       "1                     1  \n",
       "2                     0  \n",
       "3                     0  \n",
       "4                     0  \n",
       "\n",
       "[5 rows x 21 columns]"
      ]
     },
     "execution_count": 23,
     "metadata": {},
     "output_type": "execute_result"
    }
   ],
   "source": [
    "# Initialize the LabelEncoder\n",
    "le = LabelEncoder()\n",
    "\n",
    "# Encode the 'agency_class' column\n",
    "df_ml['agency_class_encoded'] = le.fit_transform(df_ml['agency_class'])\n",
    "\n",
    "# Display the DataFrame with the new column\n",
    "df_ml.head()"
   ]
  },
  {
   "cell_type": "code",
   "execution_count": 24,
   "metadata": {},
   "outputs": [
    {
     "data": {
      "text/html": [
       "<div>\n",
       "<style scoped>\n",
       "    .dataframe tbody tr th:only-of-type {\n",
       "        vertical-align: middle;\n",
       "    }\n",
       "\n",
       "    .dataframe tbody tr th {\n",
       "        vertical-align: top;\n",
       "    }\n",
       "\n",
       "    .dataframe thead th {\n",
       "        text-align: right;\n",
       "    }\n",
       "</style>\n",
       "<table border=\"1\" class=\"dataframe\">\n",
       "  <thead>\n",
       "    <tr style=\"text-align: right;\">\n",
       "      <th></th>\n",
       "      <th>nct_id</th>\n",
       "      <th>enrollment</th>\n",
       "      <th>condition_name</th>\n",
       "      <th>actual_duration</th>\n",
       "      <th>country</th>\n",
       "      <th>dropout_rate</th>\n",
       "      <th>mean_age_imp</th>\n",
       "      <th>AE_total_serious</th>\n",
       "      <th>AE_total_other</th>\n",
       "      <th>subjects_at_risk_serious</th>\n",
       "      <th>subjects_at_risk_other</th>\n",
       "      <th>AE_serious_freq</th>\n",
       "      <th>AE_other_freq</th>\n",
       "      <th>subjects_at_risk_serious_freq</th>\n",
       "      <th>subjects_at_risk_other_freq</th>\n",
       "      <th>phase_encoded</th>\n",
       "      <th>gender_encoded</th>\n",
       "      <th>agency_class_encoded</th>\n",
       "    </tr>\n",
       "  </thead>\n",
       "  <tbody>\n",
       "    <tr>\n",
       "      <th>0</th>\n",
       "      <td>NCT00444951</td>\n",
       "      <td>450.0</td>\n",
       "      <td>infectious diseases</td>\n",
       "      <td>12.0</td>\n",
       "      <td>saudi arabia</td>\n",
       "      <td>3.111111</td>\n",
       "      <td>17.500000</td>\n",
       "      <td>1.0</td>\n",
       "      <td>1082.0</td>\n",
       "      <td>445.0</td>\n",
       "      <td>3066.0</td>\n",
       "      <td>0.002222</td>\n",
       "      <td>2.404444</td>\n",
       "      <td>0.988889</td>\n",
       "      <td>6.813333</td>\n",
       "      <td>6</td>\n",
       "      <td>0</td>\n",
       "      <td>0</td>\n",
       "    </tr>\n",
       "    <tr>\n",
       "      <th>1</th>\n",
       "      <td>NCT00623831</td>\n",
       "      <td>17.0</td>\n",
       "      <td>cancer</td>\n",
       "      <td>60.0</td>\n",
       "      <td>germany</td>\n",
       "      <td>11.764706</td>\n",
       "      <td>41.500000</td>\n",
       "      <td>3.0</td>\n",
       "      <td>100.0</td>\n",
       "      <td>51.0</td>\n",
       "      <td>1139.0</td>\n",
       "      <td>0.176471</td>\n",
       "      <td>5.882353</td>\n",
       "      <td>3.000000</td>\n",
       "      <td>67.000000</td>\n",
       "      <td>2</td>\n",
       "      <td>0</td>\n",
       "      <td>1</td>\n",
       "    </tr>\n",
       "    <tr>\n",
       "      <th>2</th>\n",
       "      <td>NCT00434577</td>\n",
       "      <td>715.0</td>\n",
       "      <td>infectious diseases</td>\n",
       "      <td>7.0</td>\n",
       "      <td>multiple</td>\n",
       "      <td>1.818182</td>\n",
       "      <td>33.899366</td>\n",
       "      <td>349.0</td>\n",
       "      <td>1716.0</td>\n",
       "      <td>145656.0</td>\n",
       "      <td>4998.0</td>\n",
       "      <td>0.488112</td>\n",
       "      <td>2.400000</td>\n",
       "      <td>203.714685</td>\n",
       "      <td>6.990210</td>\n",
       "      <td>4</td>\n",
       "      <td>0</td>\n",
       "      <td>0</td>\n",
       "    </tr>\n",
       "    <tr>\n",
       "      <th>3</th>\n",
       "      <td>NCT00616421</td>\n",
       "      <td>2907.0</td>\n",
       "      <td>infectious diseases</td>\n",
       "      <td>13.0</td>\n",
       "      <td>multiple</td>\n",
       "      <td>3.611971</td>\n",
       "      <td>6.000000</td>\n",
       "      <td>119.0</td>\n",
       "      <td>4625.0</td>\n",
       "      <td>69144.0</td>\n",
       "      <td>51858.0</td>\n",
       "      <td>0.040936</td>\n",
       "      <td>1.590987</td>\n",
       "      <td>23.785346</td>\n",
       "      <td>17.839009</td>\n",
       "      <td>6</td>\n",
       "      <td>0</td>\n",
       "      <td>0</td>\n",
       "    </tr>\n",
       "    <tr>\n",
       "      <th>4</th>\n",
       "      <td>NCT04515147</td>\n",
       "      <td>668.0</td>\n",
       "      <td>infectious diseases</td>\n",
       "      <td>17.0</td>\n",
       "      <td>multiple</td>\n",
       "      <td>8.532934</td>\n",
       "      <td>41.500000</td>\n",
       "      <td>140.0</td>\n",
       "      <td>3398.0</td>\n",
       "      <td>10020.0</td>\n",
       "      <td>18036.0</td>\n",
       "      <td>0.209581</td>\n",
       "      <td>5.086826</td>\n",
       "      <td>15.000000</td>\n",
       "      <td>27.000000</td>\n",
       "      <td>4</td>\n",
       "      <td>0</td>\n",
       "      <td>0</td>\n",
       "    </tr>\n",
       "  </tbody>\n",
       "</table>\n",
       "</div>"
      ],
      "text/plain": [
       "        nct_id  enrollment       condition_name  actual_duration  \\\n",
       "0  NCT00444951       450.0  infectious diseases             12.0   \n",
       "1  NCT00623831        17.0               cancer             60.0   \n",
       "2  NCT00434577       715.0  infectious diseases              7.0   \n",
       "3  NCT00616421      2907.0  infectious diseases             13.0   \n",
       "4  NCT04515147       668.0  infectious diseases             17.0   \n",
       "\n",
       "        country  dropout_rate  mean_age_imp  AE_total_serious  AE_total_other  \\\n",
       "0  saudi arabia      3.111111     17.500000               1.0          1082.0   \n",
       "1       germany     11.764706     41.500000               3.0           100.0   \n",
       "2      multiple      1.818182     33.899366             349.0          1716.0   \n",
       "3      multiple      3.611971      6.000000             119.0          4625.0   \n",
       "4      multiple      8.532934     41.500000             140.0          3398.0   \n",
       "\n",
       "   subjects_at_risk_serious  subjects_at_risk_other  AE_serious_freq  \\\n",
       "0                     445.0                  3066.0         0.002222   \n",
       "1                      51.0                  1139.0         0.176471   \n",
       "2                  145656.0                  4998.0         0.488112   \n",
       "3                   69144.0                 51858.0         0.040936   \n",
       "4                   10020.0                 18036.0         0.209581   \n",
       "\n",
       "   AE_other_freq  subjects_at_risk_serious_freq  subjects_at_risk_other_freq  \\\n",
       "0       2.404444                       0.988889                     6.813333   \n",
       "1       5.882353                       3.000000                    67.000000   \n",
       "2       2.400000                     203.714685                     6.990210   \n",
       "3       1.590987                      23.785346                    17.839009   \n",
       "4       5.086826                      15.000000                    27.000000   \n",
       "\n",
       "   phase_encoded  gender_encoded  agency_class_encoded  \n",
       "0              6               0                     0  \n",
       "1              2               0                     1  \n",
       "2              4               0                     0  \n",
       "3              6               0                     0  \n",
       "4              4               0                     0  "
      ]
     },
     "execution_count": 24,
     "metadata": {},
     "output_type": "execute_result"
    }
   ],
   "source": [
    "# Drop 'phase','gender', angency_class columns\n",
    "df_ml = df_ml.drop(['phase', 'gender', 'agency_class'], axis=1)\n",
    "\n",
    "# Display the DataFrame with the new column\n",
    "df_ml.head()"
   ]
  },
  {
   "cell_type": "code",
   "execution_count": 25,
   "metadata": {},
   "outputs": [
    {
     "data": {
      "text/html": [
       "<div>\n",
       "<style scoped>\n",
       "    .dataframe tbody tr th:only-of-type {\n",
       "        vertical-align: middle;\n",
       "    }\n",
       "\n",
       "    .dataframe tbody tr th {\n",
       "        vertical-align: top;\n",
       "    }\n",
       "\n",
       "    .dataframe thead th {\n",
       "        text-align: right;\n",
       "    }\n",
       "</style>\n",
       "<table border=\"1\" class=\"dataframe\">\n",
       "  <thead>\n",
       "    <tr style=\"text-align: right;\">\n",
       "      <th></th>\n",
       "      <th>nct_id</th>\n",
       "      <th>enrollment</th>\n",
       "      <th>condition_name</th>\n",
       "      <th>actual_duration</th>\n",
       "      <th>country_0</th>\n",
       "      <th>country_1</th>\n",
       "      <th>country_2</th>\n",
       "      <th>country_3</th>\n",
       "      <th>country_4</th>\n",
       "      <th>country_5</th>\n",
       "      <th>...</th>\n",
       "      <th>AE_total_other</th>\n",
       "      <th>subjects_at_risk_serious</th>\n",
       "      <th>subjects_at_risk_other</th>\n",
       "      <th>AE_serious_freq</th>\n",
       "      <th>AE_other_freq</th>\n",
       "      <th>subjects_at_risk_serious_freq</th>\n",
       "      <th>subjects_at_risk_other_freq</th>\n",
       "      <th>phase_encoded</th>\n",
       "      <th>gender_encoded</th>\n",
       "      <th>agency_class_encoded</th>\n",
       "    </tr>\n",
       "  </thead>\n",
       "  <tbody>\n",
       "    <tr>\n",
       "      <th>0</th>\n",
       "      <td>NCT00444951</td>\n",
       "      <td>450.0</td>\n",
       "      <td>infectious diseases</td>\n",
       "      <td>12.0</td>\n",
       "      <td>0</td>\n",
       "      <td>0</td>\n",
       "      <td>0</td>\n",
       "      <td>0</td>\n",
       "      <td>0</td>\n",
       "      <td>1</td>\n",
       "      <td>...</td>\n",
       "      <td>1082.0</td>\n",
       "      <td>445.0</td>\n",
       "      <td>3066.0</td>\n",
       "      <td>0.002222</td>\n",
       "      <td>2.404444</td>\n",
       "      <td>0.988889</td>\n",
       "      <td>6.813333</td>\n",
       "      <td>6</td>\n",
       "      <td>0</td>\n",
       "      <td>0</td>\n",
       "    </tr>\n",
       "    <tr>\n",
       "      <th>1</th>\n",
       "      <td>NCT00623831</td>\n",
       "      <td>17.0</td>\n",
       "      <td>cancer</td>\n",
       "      <td>60.0</td>\n",
       "      <td>0</td>\n",
       "      <td>0</td>\n",
       "      <td>0</td>\n",
       "      <td>0</td>\n",
       "      <td>1</td>\n",
       "      <td>0</td>\n",
       "      <td>...</td>\n",
       "      <td>100.0</td>\n",
       "      <td>51.0</td>\n",
       "      <td>1139.0</td>\n",
       "      <td>0.176471</td>\n",
       "      <td>5.882353</td>\n",
       "      <td>3.000000</td>\n",
       "      <td>67.000000</td>\n",
       "      <td>2</td>\n",
       "      <td>0</td>\n",
       "      <td>1</td>\n",
       "    </tr>\n",
       "    <tr>\n",
       "      <th>2</th>\n",
       "      <td>NCT00434577</td>\n",
       "      <td>715.0</td>\n",
       "      <td>infectious diseases</td>\n",
       "      <td>7.0</td>\n",
       "      <td>0</td>\n",
       "      <td>0</td>\n",
       "      <td>0</td>\n",
       "      <td>0</td>\n",
       "      <td>1</td>\n",
       "      <td>1</td>\n",
       "      <td>...</td>\n",
       "      <td>1716.0</td>\n",
       "      <td>145656.0</td>\n",
       "      <td>4998.0</td>\n",
       "      <td>0.488112</td>\n",
       "      <td>2.400000</td>\n",
       "      <td>203.714685</td>\n",
       "      <td>6.990210</td>\n",
       "      <td>4</td>\n",
       "      <td>0</td>\n",
       "      <td>0</td>\n",
       "    </tr>\n",
       "    <tr>\n",
       "      <th>3</th>\n",
       "      <td>NCT00616421</td>\n",
       "      <td>2907.0</td>\n",
       "      <td>infectious diseases</td>\n",
       "      <td>13.0</td>\n",
       "      <td>0</td>\n",
       "      <td>0</td>\n",
       "      <td>0</td>\n",
       "      <td>0</td>\n",
       "      <td>1</td>\n",
       "      <td>1</td>\n",
       "      <td>...</td>\n",
       "      <td>4625.0</td>\n",
       "      <td>69144.0</td>\n",
       "      <td>51858.0</td>\n",
       "      <td>0.040936</td>\n",
       "      <td>1.590987</td>\n",
       "      <td>23.785346</td>\n",
       "      <td>17.839009</td>\n",
       "      <td>6</td>\n",
       "      <td>0</td>\n",
       "      <td>0</td>\n",
       "    </tr>\n",
       "    <tr>\n",
       "      <th>4</th>\n",
       "      <td>NCT04515147</td>\n",
       "      <td>668.0</td>\n",
       "      <td>infectious diseases</td>\n",
       "      <td>17.0</td>\n",
       "      <td>0</td>\n",
       "      <td>0</td>\n",
       "      <td>0</td>\n",
       "      <td>0</td>\n",
       "      <td>1</td>\n",
       "      <td>1</td>\n",
       "      <td>...</td>\n",
       "      <td>3398.0</td>\n",
       "      <td>10020.0</td>\n",
       "      <td>18036.0</td>\n",
       "      <td>0.209581</td>\n",
       "      <td>5.086826</td>\n",
       "      <td>15.000000</td>\n",
       "      <td>27.000000</td>\n",
       "      <td>4</td>\n",
       "      <td>0</td>\n",
       "      <td>0</td>\n",
       "    </tr>\n",
       "  </tbody>\n",
       "</table>\n",
       "<p>5 rows × 23 columns</p>\n",
       "</div>"
      ],
      "text/plain": [
       "        nct_id  enrollment       condition_name  actual_duration  country_0  \\\n",
       "0  NCT00444951       450.0  infectious diseases             12.0          0   \n",
       "1  NCT00623831        17.0               cancer             60.0          0   \n",
       "2  NCT00434577       715.0  infectious diseases              7.0          0   \n",
       "3  NCT00616421      2907.0  infectious diseases             13.0          0   \n",
       "4  NCT04515147       668.0  infectious diseases             17.0          0   \n",
       "\n",
       "   country_1  country_2  country_3  country_4  country_5  ...  AE_total_other  \\\n",
       "0          0          0          0          0          1  ...          1082.0   \n",
       "1          0          0          0          1          0  ...           100.0   \n",
       "2          0          0          0          1          1  ...          1716.0   \n",
       "3          0          0          0          1          1  ...          4625.0   \n",
       "4          0          0          0          1          1  ...          3398.0   \n",
       "\n",
       "   subjects_at_risk_serious  subjects_at_risk_other  AE_serious_freq  \\\n",
       "0                     445.0                  3066.0         0.002222   \n",
       "1                      51.0                  1139.0         0.176471   \n",
       "2                  145656.0                  4998.0         0.488112   \n",
       "3                   69144.0                 51858.0         0.040936   \n",
       "4                   10020.0                 18036.0         0.209581   \n",
       "\n",
       "   AE_other_freq  subjects_at_risk_serious_freq  subjects_at_risk_other_freq  \\\n",
       "0       2.404444                       0.988889                     6.813333   \n",
       "1       5.882353                       3.000000                    67.000000   \n",
       "2       2.400000                     203.714685                     6.990210   \n",
       "3       1.590987                      23.785346                    17.839009   \n",
       "4       5.086826                      15.000000                    27.000000   \n",
       "\n",
       "   phase_encoded  gender_encoded  agency_class_encoded  \n",
       "0              6               0                     0  \n",
       "1              2               0                     1  \n",
       "2              4               0                     0  \n",
       "3              6               0                     0  \n",
       "4              4               0                     0  \n",
       "\n",
       "[5 rows x 23 columns]"
      ]
     },
     "execution_count": 25,
     "metadata": {},
     "output_type": "execute_result"
    }
   ],
   "source": [
    "# Encode the 'country' column\n",
    "df_ml = BinaryEncoder(cols=['country']).fit(df_ml).transform(df_ml)\n",
    "\n",
    "# Display the DataFrame with the new column\n",
    "df_ml.head()"
   ]
  },
  {
   "cell_type": "markdown",
   "metadata": {},
   "source": [
    "#### Feature selection methods"
   ]
  },
  {
   "cell_type": "markdown",
   "metadata": {},
   "source": [
    "Filter methods\n",
    "\n",
    "- Variance threshold: to remove any features that have little to no variation in their values.\n",
    "- Pearson’s correlation: measuring the linear relationship between two numeric, continuous variables. Correlation between features, and correlation between features and target.\n",
    "- F-statistic: correlation between features and target.\n",
    "- Mutual information: measures the dependence between two variables and can be used to estimate how much a feature contributes to the prediction of the target variable."
   ]
  },
  {
   "cell_type": "code",
   "execution_count": 26,
   "metadata": {},
   "outputs": [],
   "source": [
    "# features\n",
    "features = df_ml.drop(['nct_id', 'condition_name', 'country_0', 'country_1', 'country_2', 'country_3', 'country_4', 'country_5',\n",
    "                       'phase_encoded', 'gender_encoded', 'agency_class_encoded', 'dropout_rate'], axis=1)\n",
    "\n",
    "# target variable\n",
    "target = df_ml['dropout_rate']"
   ]
  },
  {
   "cell_type": "code",
   "execution_count": 27,
   "metadata": {},
   "outputs": [
    {
     "name": "stdout",
     "output_type": "stream",
     "text": [
      "[[4.50000000e+02 1.20000000e+01 1.75000000e+01 ... 2.40444444e+00\n",
      "  9.88888889e-01 6.81333333e+00]\n",
      " [1.70000000e+01 6.00000000e+01 4.15000000e+01 ... 5.88235294e+00\n",
      "  3.00000000e+00 6.70000000e+01]\n",
      " [7.15000000e+02 7.00000000e+00 3.38993661e+01 ... 2.40000000e+00\n",
      "  2.03714685e+02 6.99020979e+00]\n",
      " ...\n",
      " [3.00000000e+02 7.00000000e+00 3.35000000e+01 ... 1.40000000e-01\n",
      "  3.00000000e+00 1.30000000e+01]\n",
      " [1.44700000e+03 1.20000000e+01 1.70000000e+01 ... 3.93849343e+00\n",
      "  6.60000000e+01 1.09723566e+01]\n",
      " [4.80000000e+01 3.00000000e+00 3.38993661e+01 ... 5.16666667e+00\n",
      "  6.00000000e+00 7.79166667e+01]]\n"
     ]
    }
   ],
   "source": [
    "# Variance threshold\n",
    "selector = VarianceThreshold(threshold=0)  # 0 is default\n",
    "print(selector.fit_transform(features))"
   ]
  },
  {
   "cell_type": "code",
   "execution_count": 28,
   "metadata": {},
   "outputs": [
    {
     "name": "stdout",
     "output_type": "stream",
     "text": [
      "['enrollment', 'actual_duration', 'mean_age_imp', 'AE_total_serious', 'AE_total_other', 'subjects_at_risk_serious', 'subjects_at_risk_other', 'AE_serious_freq', 'AE_other_freq', 'subjects_at_risk_serious_freq', 'subjects_at_risk_other_freq']\n"
     ]
    }
   ],
   "source": [
    "# Use indices to get the corresponding column names of selected features\n",
    "num_cols = list(features.columns[selector.get_support(indices=True)])\n",
    "print(num_cols)"
   ]
  },
  {
   "cell_type": "code",
   "execution_count": 29,
   "metadata": {},
   "outputs": [
    {
     "data": {
      "image/png": "[encoded data removed]",
      "text/plain": [
       "<Figure size 432x288 with 2 Axes>"
      ]
     },
     "metadata": {
      "needs_background": "light"
     },
     "output_type": "display_data"
    }
   ],
   "source": [
    "# Pearson’s correlation: \n",
    "# Correlation between features: drop highly correlated features to avoid duplicate information.\n",
    "\n",
    "corr_matrix = features.corr(method='pearson') \n",
    "\n",
    "sns.heatmap(corr_matrix, annot=True, cmap='RdBu_r')\n",
    "plt.show()"
   ]
  },
  {
   "cell_type": "code",
   "execution_count": 30,
   "metadata": {},
   "outputs": [],
   "source": [
    "# Correlation between features and target\n",
    "\n",
    "X_y = features.copy()\n",
    "X_y['dropout_rate'] = target"
   ]
  },
  {
   "cell_type": "code",
   "execution_count": 31,
   "metadata": {},
   "outputs": [
    {
     "data": {
      "image/png": "[encoded data removed]",
      "text/plain": [
       "<Figure size 432x288 with 2 Axes>"
      ]
     },
     "metadata": {
      "needs_background": "light"
     },
     "output_type": "display_data"
    }
   ],
   "source": [
    "corr_matrix = X_y.corr()\n",
    "\n",
    "# Isolate the column corresponding to 'dropout'\n",
    "corr_target = corr_matrix[['dropout_rate']].drop(labels=['dropout_rate'])\n",
    "\n",
    "sns.heatmap(corr_target, annot=True, fmt='.3', cmap='RdBu_r')\n",
    "plt.show()"
   ]
  },
  {
   "cell_type": "code",
   "execution_count": 32,
   "metadata": {},
   "outputs": [
    {
     "name": "stdout",
     "output_type": "stream",
     "text": [
      "(array([  8.60312975, 173.27695458,  26.48230427,  39.90765647,\n",
      "        13.70198793,   8.04566117,   0.98801421,  59.74816589,\n",
      "        18.25417154,  22.04145067,  11.3934159 ]), array([3.43280514e-03, 1.34213986e-36, 3.20359371e-07, 4.00889249e-10,\n",
      "       2.25984124e-04, 4.65381495e-03, 3.20469863e-01, 2.62919313e-14,\n",
      "       2.11851018e-05, 3.04192301e-06, 7.65532421e-04]))\n"
     ]
    }
   ],
   "source": [
    "# F-statistic: correlation between features and target\n",
    "# The F-statistic will be larger (and p-value will be smaller) for predictors that are more highly correlated with the target variable\n",
    "# First array: F-statistic\n",
    "# Second array: p-value\n",
    "\n",
    "print(f_regression(features, target))"
   ]
  },
  {
   "cell_type": "code",
   "execution_count": 33,
   "metadata": {},
   "outputs": [
    {
     "data": {
      "text/html": [
       "<div>\n",
       "<style scoped>\n",
       "    .dataframe tbody tr th:only-of-type {\n",
       "        vertical-align: middle;\n",
       "    }\n",
       "\n",
       "    .dataframe tbody tr th {\n",
       "        vertical-align: top;\n",
       "    }\n",
       "\n",
       "    .dataframe thead th {\n",
       "        text-align: right;\n",
       "    }\n",
       "</style>\n",
       "<table border=\"1\" class=\"dataframe\">\n",
       "  <thead>\n",
       "    <tr style=\"text-align: right;\">\n",
       "      <th></th>\n",
       "      <th>enrollment</th>\n",
       "      <th>actual_duration</th>\n",
       "      <th>mean_age_imp</th>\n",
       "      <th>AE_total_serious</th>\n",
       "      <th>AE_total_other</th>\n",
       "      <th>subjects_at_risk_serious</th>\n",
       "      <th>subjects_at_risk_other</th>\n",
       "      <th>AE_serious_freq</th>\n",
       "      <th>AE_other_freq</th>\n",
       "      <th>subjects_at_risk_serious_freq</th>\n",
       "      <th>subjects_at_risk_other_freq</th>\n",
       "      <th>phase_encoded</th>\n",
       "      <th>gender_encoded</th>\n",
       "      <th>agency_class_encoded</th>\n",
       "    </tr>\n",
       "  </thead>\n",
       "  <tbody>\n",
       "    <tr>\n",
       "      <th>0</th>\n",
       "      <td>450.0</td>\n",
       "      <td>12.0</td>\n",
       "      <td>17.500000</td>\n",
       "      <td>1.0</td>\n",
       "      <td>1082.0</td>\n",
       "      <td>445.0</td>\n",
       "      <td>3066.0</td>\n",
       "      <td>0.002222</td>\n",
       "      <td>2.404444</td>\n",
       "      <td>0.988889</td>\n",
       "      <td>6.813333</td>\n",
       "      <td>6</td>\n",
       "      <td>0</td>\n",
       "      <td>0</td>\n",
       "    </tr>\n",
       "    <tr>\n",
       "      <th>1</th>\n",
       "      <td>17.0</td>\n",
       "      <td>60.0</td>\n",
       "      <td>41.500000</td>\n",
       "      <td>3.0</td>\n",
       "      <td>100.0</td>\n",
       "      <td>51.0</td>\n",
       "      <td>1139.0</td>\n",
       "      <td>0.176471</td>\n",
       "      <td>5.882353</td>\n",
       "      <td>3.000000</td>\n",
       "      <td>67.000000</td>\n",
       "      <td>2</td>\n",
       "      <td>0</td>\n",
       "      <td>1</td>\n",
       "    </tr>\n",
       "    <tr>\n",
       "      <th>2</th>\n",
       "      <td>715.0</td>\n",
       "      <td>7.0</td>\n",
       "      <td>33.899366</td>\n",
       "      <td>349.0</td>\n",
       "      <td>1716.0</td>\n",
       "      <td>145656.0</td>\n",
       "      <td>4998.0</td>\n",
       "      <td>0.488112</td>\n",
       "      <td>2.400000</td>\n",
       "      <td>203.714685</td>\n",
       "      <td>6.990210</td>\n",
       "      <td>4</td>\n",
       "      <td>0</td>\n",
       "      <td>0</td>\n",
       "    </tr>\n",
       "    <tr>\n",
       "      <th>3</th>\n",
       "      <td>2907.0</td>\n",
       "      <td>13.0</td>\n",
       "      <td>6.000000</td>\n",
       "      <td>119.0</td>\n",
       "      <td>4625.0</td>\n",
       "      <td>69144.0</td>\n",
       "      <td>51858.0</td>\n",
       "      <td>0.040936</td>\n",
       "      <td>1.590987</td>\n",
       "      <td>23.785346</td>\n",
       "      <td>17.839009</td>\n",
       "      <td>6</td>\n",
       "      <td>0</td>\n",
       "      <td>0</td>\n",
       "    </tr>\n",
       "    <tr>\n",
       "      <th>4</th>\n",
       "      <td>668.0</td>\n",
       "      <td>17.0</td>\n",
       "      <td>41.500000</td>\n",
       "      <td>140.0</td>\n",
       "      <td>3398.0</td>\n",
       "      <td>10020.0</td>\n",
       "      <td>18036.0</td>\n",
       "      <td>0.209581</td>\n",
       "      <td>5.086826</td>\n",
       "      <td>15.000000</td>\n",
       "      <td>27.000000</td>\n",
       "      <td>4</td>\n",
       "      <td>0</td>\n",
       "      <td>0</td>\n",
       "    </tr>\n",
       "  </tbody>\n",
       "</table>\n",
       "</div>"
      ],
      "text/plain": [
       "   enrollment  actual_duration  mean_age_imp  AE_total_serious  \\\n",
       "0       450.0             12.0     17.500000               1.0   \n",
       "1        17.0             60.0     41.500000               3.0   \n",
       "2       715.0              7.0     33.899366             349.0   \n",
       "3      2907.0             13.0      6.000000             119.0   \n",
       "4       668.0             17.0     41.500000             140.0   \n",
       "\n",
       "   AE_total_other  subjects_at_risk_serious  subjects_at_risk_other  \\\n",
       "0          1082.0                     445.0                  3066.0   \n",
       "1           100.0                      51.0                  1139.0   \n",
       "2          1716.0                  145656.0                  4998.0   \n",
       "3          4625.0                   69144.0                 51858.0   \n",
       "4          3398.0                   10020.0                 18036.0   \n",
       "\n",
       "   AE_serious_freq  AE_other_freq  subjects_at_risk_serious_freq  \\\n",
       "0         0.002222       2.404444                       0.988889   \n",
       "1         0.176471       5.882353                       3.000000   \n",
       "2         0.488112       2.400000                     203.714685   \n",
       "3         0.040936       1.590987                      23.785346   \n",
       "4         0.209581       5.086826                      15.000000   \n",
       "\n",
       "   subjects_at_risk_other_freq  phase_encoded  gender_encoded  \\\n",
       "0                     6.813333              6               0   \n",
       "1                    67.000000              2               0   \n",
       "2                     6.990210              4               0   \n",
       "3                    17.839009              6               0   \n",
       "4                    27.000000              4               0   \n",
       "\n",
       "   agency_class_encoded  \n",
       "0                     0  \n",
       "1                     1  \n",
       "2                     0  \n",
       "3                     0  \n",
       "4                     0  "
      ]
     },
     "execution_count": 33,
     "metadata": {},
     "output_type": "execute_result"
    }
   ],
   "source": [
    "# features\n",
    "features = df_ml.drop(['nct_id', 'condition_name', 'country_0', 'country_1', 'country_2', 'country_3', 'country_4', 'country_5','dropout_rate'], axis=1)\n",
    "features.head()"
   ]
  },
  {
   "cell_type": "code",
   "execution_count": 34,
   "metadata": {},
   "outputs": [
    {
     "name": "stdout",
     "output_type": "stream",
     "text": [
      "[0.20694377 0.17851112 0.         0.00293911 0.         0.00314686\n",
      " 0.04147552 0.03534199 0.03800043 0.09850034 0.08192192 0.\n",
      " 0.01960093 0.01041031 0.         0.11520945 0.02147017 0.02154608\n",
      " 0.03592117 0.03863665]\n"
     ]
    }
   ],
   "source": [
    "# Mutual information\n",
    "\n",
    "# features\n",
    "features = df_ml.drop(['nct_id', 'condition_name', 'dropout_rate'], axis=1)\n",
    "\n",
    "# target variable\n",
    "target = df_ml['dropout_rate']\n",
    "\n",
    "print(mutual_info_regression(features, target, discrete_features=[11,12,13], random_state=68))"
   ]
  },
  {
   "cell_type": "code",
   "execution_count": 35,
   "metadata": {},
   "outputs": [
    {
     "name": "stdout",
     "output_type": "stream",
     "text": [
      "[[4.50000000e+02 1.20000000e+01 1.00000000e+00 1.08200000e+03\n",
      "  9.88888889e-01]\n",
      " [1.70000000e+01 6.00000000e+01 3.00000000e+00 1.00000000e+02\n",
      "  3.00000000e+00]\n",
      " [7.15000000e+02 7.00000000e+00 3.49000000e+02 1.71600000e+03\n",
      "  2.03714685e+02]\n",
      " ...\n",
      " [3.00000000e+02 7.00000000e+00 3.00000000e+00 4.20000000e+01\n",
      "  3.00000000e+00]\n",
      " [1.44700000e+03 1.20000000e+01 9.30000000e+01 5.69900000e+03\n",
      "  6.60000000e+01]\n",
      " [4.80000000e+01 3.00000000e+00 6.00000000e+00 2.48000000e+02\n",
      "  6.00000000e+00]]\n"
     ]
    }
   ],
   "source": [
    "score_func = partial(mutual_info_regression, discrete_features=[11,12,13], random_state=68)\n",
    "\n",
    "# Select top 5 features with the most mutual information\n",
    "selection = SelectKBest(score_func=score_func, k=5)\n",
    "\n",
    "print(selection.fit_transform(features, target))"
   ]
  },
  {
   "cell_type": "code",
   "execution_count": 36,
   "metadata": {},
   "outputs": [
    {
     "name": "stdout",
     "output_type": "stream",
     "text": [
      "     enrollment  actual_duration  AE_total_serious  AE_total_other  \\\n",
      "0         450.0             12.0               1.0          1082.0   \n",
      "1          17.0             60.0               3.0           100.0   \n",
      "2         715.0              7.0             349.0          1716.0   \n",
      "3        2907.0             13.0             119.0          4625.0   \n",
      "4         668.0             17.0             140.0          3398.0   \n",
      "..          ...              ...               ...             ...   \n",
      "992       406.0             19.0               0.0           169.0   \n",
      "993        50.0             56.0              38.0           123.0   \n",
      "994       300.0              7.0               3.0            42.0   \n",
      "995      1447.0             12.0              93.0          5699.0   \n",
      "996        48.0              3.0               6.0           248.0   \n",
      "\n",
      "     subjects_at_risk_serious_freq  \n",
      "0                         0.988889  \n",
      "1                         3.000000  \n",
      "2                       203.714685  \n",
      "3                        23.785346  \n",
      "4                        15.000000  \n",
      "..                             ...  \n",
      "992                       0.000000  \n",
      "993                       5.000000  \n",
      "994                       3.000000  \n",
      "995                      66.000000  \n",
      "996                       6.000000  \n",
      "\n",
      "[997 rows x 5 columns]\n"
     ]
    }
   ],
   "source": [
    "X = features[features.columns[selection.get_support(indices=True)]]\n",
    "print(X)"
   ]
  },
  {
   "cell_type": "markdown",
   "metadata": {},
   "source": [
    "One-Hot Encoding:\n",
    "\n",
    "- dummy variables are created to handle categorical variables. They transform each category within a variable into its own binary identifier.\n",
    "- disadvantage: it can lead to a high-dimensional feature space if there are many unique diseases, so it may not be efficient for large datasets."
   ]
  },
  {
   "cell_type": "code",
   "execution_count": 37,
   "metadata": {},
   "outputs": [
    {
     "data": {
      "text/html": [
       "<div>\n",
       "<style scoped>\n",
       "    .dataframe tbody tr th:only-of-type {\n",
       "        vertical-align: middle;\n",
       "    }\n",
       "\n",
       "    .dataframe tbody tr th {\n",
       "        vertical-align: top;\n",
       "    }\n",
       "\n",
       "    .dataframe thead th {\n",
       "        text-align: right;\n",
       "    }\n",
       "</style>\n",
       "<table border=\"1\" class=\"dataframe\">\n",
       "  <thead>\n",
       "    <tr style=\"text-align: right;\">\n",
       "      <th></th>\n",
       "      <th>nct_id</th>\n",
       "      <th>enrollment</th>\n",
       "      <th>actual_duration</th>\n",
       "      <th>country_0</th>\n",
       "      <th>country_1</th>\n",
       "      <th>country_2</th>\n",
       "      <th>country_3</th>\n",
       "      <th>country_4</th>\n",
       "      <th>country_5</th>\n",
       "      <th>dropout_rate</th>\n",
       "      <th>...</th>\n",
       "      <th>condition_cancer</th>\n",
       "      <th>condition_chronic diseases</th>\n",
       "      <th>condition_congenital disorders</th>\n",
       "      <th>condition_healthy</th>\n",
       "      <th>condition_heart diseases</th>\n",
       "      <th>condition_infectious diseases</th>\n",
       "      <th>condition_inflammatory diseases</th>\n",
       "      <th>condition_pregnancy</th>\n",
       "      <th>condition_respiratory disorders</th>\n",
       "      <th>condition_transplant</th>\n",
       "    </tr>\n",
       "  </thead>\n",
       "  <tbody>\n",
       "    <tr>\n",
       "      <th>0</th>\n",
       "      <td>NCT00444951</td>\n",
       "      <td>450.0</td>\n",
       "      <td>12.0</td>\n",
       "      <td>0</td>\n",
       "      <td>0</td>\n",
       "      <td>0</td>\n",
       "      <td>0</td>\n",
       "      <td>0</td>\n",
       "      <td>1</td>\n",
       "      <td>3.111111</td>\n",
       "      <td>...</td>\n",
       "      <td>0</td>\n",
       "      <td>0</td>\n",
       "      <td>0</td>\n",
       "      <td>0</td>\n",
       "      <td>0</td>\n",
       "      <td>1</td>\n",
       "      <td>0</td>\n",
       "      <td>0</td>\n",
       "      <td>0</td>\n",
       "      <td>0</td>\n",
       "    </tr>\n",
       "    <tr>\n",
       "      <th>1</th>\n",
       "      <td>NCT00623831</td>\n",
       "      <td>17.0</td>\n",
       "      <td>60.0</td>\n",
       "      <td>0</td>\n",
       "      <td>0</td>\n",
       "      <td>0</td>\n",
       "      <td>0</td>\n",
       "      <td>1</td>\n",
       "      <td>0</td>\n",
       "      <td>11.764706</td>\n",
       "      <td>...</td>\n",
       "      <td>1</td>\n",
       "      <td>0</td>\n",
       "      <td>0</td>\n",
       "      <td>0</td>\n",
       "      <td>0</td>\n",
       "      <td>0</td>\n",
       "      <td>0</td>\n",
       "      <td>0</td>\n",
       "      <td>0</td>\n",
       "      <td>0</td>\n",
       "    </tr>\n",
       "    <tr>\n",
       "      <th>2</th>\n",
       "      <td>NCT00434577</td>\n",
       "      <td>715.0</td>\n",
       "      <td>7.0</td>\n",
       "      <td>0</td>\n",
       "      <td>0</td>\n",
       "      <td>0</td>\n",
       "      <td>0</td>\n",
       "      <td>1</td>\n",
       "      <td>1</td>\n",
       "      <td>1.818182</td>\n",
       "      <td>...</td>\n",
       "      <td>0</td>\n",
       "      <td>0</td>\n",
       "      <td>0</td>\n",
       "      <td>0</td>\n",
       "      <td>0</td>\n",
       "      <td>1</td>\n",
       "      <td>0</td>\n",
       "      <td>0</td>\n",
       "      <td>0</td>\n",
       "      <td>0</td>\n",
       "    </tr>\n",
       "    <tr>\n",
       "      <th>3</th>\n",
       "      <td>NCT00616421</td>\n",
       "      <td>2907.0</td>\n",
       "      <td>13.0</td>\n",
       "      <td>0</td>\n",
       "      <td>0</td>\n",
       "      <td>0</td>\n",
       "      <td>0</td>\n",
       "      <td>1</td>\n",
       "      <td>1</td>\n",
       "      <td>3.611971</td>\n",
       "      <td>...</td>\n",
       "      <td>0</td>\n",
       "      <td>0</td>\n",
       "      <td>0</td>\n",
       "      <td>0</td>\n",
       "      <td>0</td>\n",
       "      <td>1</td>\n",
       "      <td>0</td>\n",
       "      <td>0</td>\n",
       "      <td>0</td>\n",
       "      <td>0</td>\n",
       "    </tr>\n",
       "    <tr>\n",
       "      <th>4</th>\n",
       "      <td>NCT04515147</td>\n",
       "      <td>668.0</td>\n",
       "      <td>17.0</td>\n",
       "      <td>0</td>\n",
       "      <td>0</td>\n",
       "      <td>0</td>\n",
       "      <td>0</td>\n",
       "      <td>1</td>\n",
       "      <td>1</td>\n",
       "      <td>8.532934</td>\n",
       "      <td>...</td>\n",
       "      <td>0</td>\n",
       "      <td>0</td>\n",
       "      <td>0</td>\n",
       "      <td>0</td>\n",
       "      <td>0</td>\n",
       "      <td>1</td>\n",
       "      <td>0</td>\n",
       "      <td>0</td>\n",
       "      <td>0</td>\n",
       "      <td>0</td>\n",
       "    </tr>\n",
       "  </tbody>\n",
       "</table>\n",
       "<p>5 rows × 34 columns</p>\n",
       "</div>"
      ],
      "text/plain": [
       "        nct_id  enrollment  actual_duration  country_0  country_1  country_2  \\\n",
       "0  NCT00444951       450.0             12.0          0          0          0   \n",
       "1  NCT00623831        17.0             60.0          0          0          0   \n",
       "2  NCT00434577       715.0              7.0          0          0          0   \n",
       "3  NCT00616421      2907.0             13.0          0          0          0   \n",
       "4  NCT04515147       668.0             17.0          0          0          0   \n",
       "\n",
       "   country_3  country_4  country_5  dropout_rate  ...  condition_cancer  \\\n",
       "0          0          0          1      3.111111  ...                 0   \n",
       "1          0          1          0     11.764706  ...                 1   \n",
       "2          0          1          1      1.818182  ...                 0   \n",
       "3          0          1          1      3.611971  ...                 0   \n",
       "4          0          1          1      8.532934  ...                 0   \n",
       "\n",
       "   condition_chronic diseases  condition_congenital disorders  \\\n",
       "0                           0                               0   \n",
       "1                           0                               0   \n",
       "2                           0                               0   \n",
       "3                           0                               0   \n",
       "4                           0                               0   \n",
       "\n",
       "   condition_healthy  condition_heart diseases  condition_infectious diseases  \\\n",
       "0                  0                         0                              1   \n",
       "1                  0                         0                              0   \n",
       "2                  0                         0                              1   \n",
       "3                  0                         0                              1   \n",
       "4                  0                         0                              1   \n",
       "\n",
       "   condition_inflammatory diseases  condition_pregnancy  \\\n",
       "0                                0                    0   \n",
       "1                                0                    0   \n",
       "2                                0                    0   \n",
       "3                                0                    0   \n",
       "4                                0                    0   \n",
       "\n",
       "   condition_respiratory disorders  condition_transplant  \n",
       "0                                0                     0  \n",
       "1                                0                     0  \n",
       "2                                0                     0  \n",
       "3                                0                     0  \n",
       "4                                0                     0  \n",
       "\n",
       "[5 rows x 34 columns]"
      ]
     },
     "execution_count": 37,
     "metadata": {},
     "output_type": "execute_result"
    }
   ],
   "source": [
    "# Create dummy variables for 'condition_name' \n",
    "df_ml = pd.get_dummies(df_ml, columns=['condition_name'], prefix=['condition'])\n",
    "df_ml.head()"
   ]
  },
  {
   "cell_type": "markdown",
   "metadata": {},
   "source": [
    "#### Recursive Feature Elimination"
   ]
  },
  {
   "cell_type": "code",
   "execution_count": 38,
   "metadata": {},
   "outputs": [],
   "source": [
    "# Select variables\n",
    "x = df_ml.drop(['nct_id', 'dropout_rate'], axis=1)\n",
    "y = df_ml['dropout_rate']"
   ]
  },
  {
   "cell_type": "code",
   "execution_count": 39,
   "metadata": {},
   "outputs": [
    {
     "name": "stdout",
     "output_type": "stream",
     "text": [
      "0.2373339954499002\n",
      "['actual_duration', 'AE_total_serious', 'subjects_at_risk_serious', 'subjects_at_risk_serious_freq', 'condition_autoimmune diseases', 'condition_cancer']\n"
     ]
    }
   ],
   "source": [
    "# Get feature names\n",
    "features = x.columns\n",
    "\n",
    "# Create a linear regression model\n",
    "lm = LinearRegression()\n",
    "\n",
    "# Standardize the data\n",
    "x = pd.DataFrame(StandardScaler().fit_transform(x))\n",
    "\n",
    "# Create a recursive feature elimination model\n",
    "rfe = RFE(estimator=lm, n_features_to_select=6)\n",
    "\n",
    "# Fit the recursive feature elimination model to x and y\n",
    "rfe.fit(x, y)\n",
    "\n",
    "# Print the model accuracy after doing recursive feature elimination\n",
    "print(rfe.score(x, y))\n",
    "\n",
    "# See which features recursive feature elimination chose\n",
    "rfe_features = [f for (f, support) in zip(features, rfe.support_) if support]\n",
    "print(rfe_features)"
   ]
  },
  {
   "cell_type": "code",
   "execution_count": 40,
   "metadata": {},
   "outputs": [],
   "source": [
    "# Select variables\n",
    "x = df_ml.drop(['nct_id', 'dropout_rate'], axis=1)\n",
    "y = df_ml['dropout_rate']"
   ]
  },
  {
   "cell_type": "code",
   "execution_count": 41,
   "metadata": {},
   "outputs": [
    {
     "name": "stdout",
     "output_type": "stream",
     "text": [
      "0.8819138560311781\n",
      "['enrollment', 'actual_duration', 'AE_total_serious', 'AE_serious_freq', 'AE_other_freq', 'subjects_at_risk_other_freq']\n"
     ]
    }
   ],
   "source": [
    "# Get feature names\n",
    "features = x.columns\n",
    "\n",
    "# Create a random forest regression model\n",
    "rfr = RandomForestRegressor()\n",
    "\n",
    "# Create a recursive feature elimination model\n",
    "rfe = RFE(estimator=rfr, n_features_to_select=6)\n",
    "\n",
    "# Fit the recursive feature elimination model to x and y\n",
    "rfe.fit(x, y)\n",
    "\n",
    "# Print the model accuracy after doing recursive feature elimination\n",
    "print(rfe.score(x, y))\n",
    "\n",
    "# See which features recursive feature elimination chose\n",
    "rfe_features = [f for (f, support) in zip(features, rfe.support_) if support]\n",
    "print(rfe_features)"
   ]
  },
  {
   "cell_type": "markdown",
   "metadata": {},
   "source": [
    "#### Select Variables\n",
    "\n",
    "The data for the model will consist of a subset of variables. The **x** dataframe will contain features that could serve as good predictors for patient dropout in clinical trials. The **y** dataframe will include the target column, denoted by the 'dropout_rate', indicating the percentage of dropouts per clinical trial."
   ]
  },
  {
   "cell_type": "code",
   "execution_count": 42,
   "metadata": {},
   "outputs": [],
   "source": [
    "# # Select variables\n",
    "# x = df_ml[['enrollment', 'actual_duration', 'AE_total_serious', 'subjects_at_risk_other_freq', 'phase_encoded', 'mean_age_imp']]\n",
    "# y = df_ml['dropout_rate']"
   ]
  },
  {
   "cell_type": "code",
   "execution_count": 43,
   "metadata": {},
   "outputs": [],
   "source": [
    "# Select variables\n",
    "x = df_ml[['enrollment', 'actual_duration', 'AE_total_serious', 'subjects_at_risk_other_freq' ,'mean_age_imp', 'phase_encoded']]\n",
    "y = df_ml['dropout_rate']"
   ]
  },
  {
   "cell_type": "code",
   "execution_count": 44,
   "metadata": {},
   "outputs": [],
   "source": [
    "# Standardize the data using StandardScaler\n",
    "standard_scaler = StandardScaler()\n",
    "x_scaled = standard_scaler.fit_transform(x)"
   ]
  },
  {
   "cell_type": "code",
   "execution_count": 45,
   "metadata": {},
   "outputs": [],
   "source": [
    "# Standardize the data using RobustScaler\n",
    "robust_scaler = RobustScaler()\n",
    "x_robust = robust_scaler.fit_transform(x)"
   ]
  },
  {
   "cell_type": "markdown",
   "metadata": {},
   "source": [
    "#### Splitting the Data\n",
    "\n",
    "- In this split, 20% of the data is reserved for final validation, while 80% is allocated for training the model."
   ]
  },
  {
   "cell_type": "code",
   "execution_count": 46,
   "metadata": {},
   "outputs": [],
   "source": [
    "# Splitting the data\n",
    "\n",
    "#Validation chunk size\n",
    "val_size = 0.20\n",
    "\n",
    "#Split the data into chunks\n",
    "x_train, x_test, y_train, y_test = train_test_split(x, y, test_size=val_size, random_state = 42)\n",
    "\n",
    "#Split the standard scaled data into chunks\n",
    "x_train_scaled, x_test_scaled, y_train_scaled, y_test_scaled = train_test_split(x_scaled, y, test_size=val_size, random_state = 42)\n",
    "\n",
    "#Split the robust scaled data into chunks\n",
    "x_train_robust, x_test_robust, y_train_robust, y_test_robust = train_test_split(x_robust, y, test_size=val_size, random_state = 42)"
   ]
  },
  {
   "cell_type": "markdown",
   "metadata": {},
   "source": [
    "#### Prediction\n",
    "\n",
    "- **Model Building:** for this project, five algorithms will be used to make predictions:\n",
    "\n",
    "  1. Linear Regression\n",
    "  2. K Nearest Neighbor\n",
    "  3. Decision Trees\n",
    "  4. Random Forests\n",
    "  5. XGBoost\n",
    "\n",
    "- **Evaluation Metrics:**\n",
    "  - Mean Squared Error (MSE)\n",
    "  - Root Mean Squared Error (RMSE)\n",
    "  - Mean Absolute Error (MAE)\n",
    "  - R-squared (R2)"
   ]
  },
  {
   "cell_type": "markdown",
   "metadata": {},
   "source": [
    "##### Multiple Linear Regression"
   ]
  },
  {
   "cell_type": "code",
   "execution_count": 47,
   "metadata": {},
   "outputs": [],
   "source": [
    "# Initialize and train a linear regression model\n",
    "lm = LinearRegression()\n",
    "lm.fit(x_train_robust, y_train_robust)\n",
    "\n",
    "# Make predictions on the test set\n",
    "y_pred = lm.predict(x_test_robust)"
   ]
  },
  {
   "cell_type": "code",
   "execution_count": 48,
   "metadata": {},
   "outputs": [
    {
     "name": "stdout",
     "output_type": "stream",
     "text": [
      "Coefficients of each feature: [ 0.04434956  3.60242383  0.10664994  0.13115744  0.67853364 -0.60245908]\n",
      "Intercept: 6.704344392231748\n"
     ]
    }
   ],
   "source": [
    "# Print coeficients and intercept\n",
    "print(\"Coefficients of each feature:\", lm.coef_)\n",
    "print(\"Intercept:\", lm.intercept_)"
   ]
  },
  {
   "cell_type": "code",
   "execution_count": 49,
   "metadata": {},
   "outputs": [
    {
     "name": "stdout",
     "output_type": "stream",
     "text": [
      "Train score:\n",
      "0.16555017085206236\n",
      "Test score:\n",
      "0.2516165531682605\n",
      "R-squared: 0.2516165531682605\n",
      "Mean Absolute Error: 7.551258746145975\n",
      "Mean Squared Error: 197.16851174699127\n",
      "Root Mean Squared Error: 14.041670546875514\n"
     ]
    }
   ],
   "source": [
    "#Print train and test score\n",
    "print(\"Train score:\")\n",
    "print(lm.score(x_train_robust, y_train_robust))\n",
    "\n",
    "print(\"Test score:\")\n",
    "print(lm.score(x_test_robust, y_test_robust))\n",
    "\n",
    "# Calculate the evaluation metrics to assess the model's performance\n",
    "\n",
    "r2 = r2_score(y_test_robust, y_pred)\n",
    "print(\"R-squared:\", r2)\n",
    "\n",
    "mae = mean_absolute_error(y_test_robust, y_pred)\n",
    "print(\"Mean Absolute Error:\", mae)\n",
    "\n",
    "mse = mean_squared_error(y_test_robust, y_pred)\n",
    "print(\"Mean Squared Error:\", mse)\n",
    "\n",
    "# Calculate Root Mean Squared Error (RMSE)\n",
    "rmse = np.sqrt(mse)\n",
    "print(\"Root Mean Squared Error:\", rmse)"
   ]
  },
  {
   "cell_type": "markdown",
   "metadata": {},
   "source": [
    "L1 and L2 Regularization"
   ]
  },
  {
   "cell_type": "code",
   "execution_count": 50,
   "metadata": {},
   "outputs": [
    {
     "name": "stdout",
     "output_type": "stream",
     "text": [
      "Train score:\n",
      "0.16552980796351002\n",
      "Test score:\n",
      "0.2503473314231869\n",
      "Mean Absolute Error: 7.560299580896529\n",
      "Mean Squared Error: 197.5028999053779\n",
      "Root Mean Squared Error: 14.053572496179678\n"
     ]
    }
   ],
   "source": [
    "# Initialize and fit the Lasso (L1) regularized regression model\n",
    "lasso = Lasso(alpha = 0.05)\n",
    "lasso.fit(x_train_robust, y_train_robust)\n",
    "\n",
    "# Make predictions on the test data\n",
    "y_pred = lasso.predict(x_test_robust)\n",
    "\n",
    "#Print train and test R2 score\n",
    "print(\"Train score:\")\n",
    "print(lasso.score(x_train_robust, y_train_robust))\n",
    "\n",
    "print(\"Test score:\")\n",
    "print(lasso.score(x_test_robust, y_test_robust))\n",
    "\n",
    "# Calculate the evaluation metrics to assess the model's performance\n",
    "mae = mean_absolute_error(y_test_robust, y_pred)\n",
    "print(\"Mean Absolute Error:\", mae)\n",
    "\n",
    "mse = mean_squared_error(y_test_robust, y_pred)\n",
    "print(\"Mean Squared Error:\", mse)\n",
    "\n",
    "rmse = np.sqrt(mse)\n",
    "print(\"Root Mean Squared Error:\", rmse)"
   ]
  },
  {
   "cell_type": "code",
   "execution_count": 51,
   "metadata": {},
   "outputs": [
    {
     "name": "stdout",
     "output_type": "stream",
     "text": [
      "Train score:\n",
      "0.16555017072819067\n",
      "Test score:\n",
      "0.25161207769726457\n",
      "Mean Absolute Error: 7.551286265989393\n",
      "Mean Squared Error: 197.16969085104466\n",
      "Root Mean Squared Error: 14.041712532702151\n"
     ]
    }
   ],
   "source": [
    "# Initialize and fit the Ridge (L2) regularized regression model\n",
    "ridge = Ridge(alpha = 0.05)\n",
    "ridge.fit(x_train_robust, y_train_robust)\n",
    "\n",
    "# Make predictions on the test data\n",
    "y_pred = ridge.predict(x_test_robust)\n",
    "\n",
    "#Print train and test R2 score\n",
    "print(\"Train score:\")\n",
    "print(ridge.score(x_train_robust, y_train_robust))\n",
    "\n",
    "print(\"Test score:\")\n",
    "print(ridge.score(x_test_robust, y_test_robust))\n",
    "\n",
    "# Calculate the evaluation metrics to assess the model's performance\n",
    "mae = mean_absolute_error(y_test_robust, y_pred)\n",
    "print(\"Mean Absolute Error:\", mae)\n",
    "\n",
    "mse = mean_squared_error(y_test_robust, y_pred)\n",
    "print(\"Mean Squared Error:\", mse)\n",
    "\n",
    "rmse = np.sqrt(mse)\n",
    "print(\"Root Mean Squared Error:\", rmse)"
   ]
  },
  {
   "cell_type": "markdown",
   "metadata": {},
   "source": [
    "##### K Nearest Neighbor"
   ]
  },
  {
   "cell_type": "code",
   "execution_count": 52,
   "metadata": {},
   "outputs": [],
   "source": [
    "# Initialize the KNN regressor \n",
    "knn_regressor = KNeighborsRegressor(n_neighbors=5)\n",
    "\n",
    "# Train the KNN regressor on the training data\n",
    "knn_regressor.fit(x_train_robust, y_train_robust)\n",
    "\n",
    "# Make predictions on the test data\n",
    "y_pred = knn_regressor.predict(x_test_robust)"
   ]
  },
  {
   "cell_type": "code",
   "execution_count": 53,
   "metadata": {},
   "outputs": [
    {
     "name": "stdout",
     "output_type": "stream",
     "text": [
      "R-squared: 0.27912193012013164\n",
      "Mean Absolute Error: 7.956935994839994\n",
      "Mean Squared Error: 189.92196686201373\n",
      "Root Mean Squared Error: 13.781217901985794\n"
     ]
    }
   ],
   "source": [
    "# Calculate the evaluation metrics to assess the model's performance\n",
    "\n",
    "r2 = r2_score(y_test_robust, y_pred)\n",
    "print(\"R-squared:\", r2)\n",
    "\n",
    "mae = mean_absolute_error(y_test_robust, y_pred)\n",
    "print(\"Mean Absolute Error:\", mae)\n",
    "\n",
    "mse = mean_squared_error(y_test_robust, y_pred)\n",
    "print(\"Mean Squared Error:\", mse)\n",
    "\n",
    "rmse = np.sqrt(mse)\n",
    "print(\"Root Mean Squared Error:\", rmse)"
   ]
  },
  {
   "cell_type": "markdown",
   "metadata": {},
   "source": [
    "Hyperparameter tuning"
   ]
  },
  {
   "cell_type": "code",
   "execution_count": 54,
   "metadata": {},
   "outputs": [
    {
     "name": "stdout",
     "output_type": "stream",
     "text": [
      "Best parameters: {'n_neighbors': 9, 'p': 2, 'weights': 'distance'}\n",
      "R-squared: 0.3220925081171345\n",
      "Mean Absolute Error: 7.586432044997487\n",
      "Mean Squared Error: 178.60097232579713\n",
      "Root Mean Squared Error: 13.364167475970852\n"
     ]
    }
   ],
   "source": [
    "# Define parameter grid\n",
    "param_grid = {\n",
    "    'n_neighbors': [3, 5, 7, 9],   # Number of neighbors to use\n",
    "    'weights': ['uniform', 'distance'],  # Weight function used in prediction\n",
    "    'p': [1, 2]  # Power parameter for Minkowski metric\n",
    "}\n",
    "\n",
    "# Instantiate GridSearchCV\n",
    "grid_search = GridSearchCV(KNeighborsRegressor(), param_grid, cv=5, scoring='neg_mean_squared_error')\n",
    "\n",
    "# Fit data\n",
    "grid_search.fit(x_train_robust, y_train_robust)\n",
    "\n",
    "# Access best model and parameters\n",
    "best_model = grid_search.best_estimator_\n",
    "best_params = grid_search.best_params_\n",
    "\n",
    "print(\"Best parameters:\", best_params)\n",
    "\n",
    "# Evaluate on test data\n",
    "y_pred = best_model.predict(x_test_robust)\n",
    "\n",
    "r2 = r2_score(y_test_robust, y_pred)\n",
    "print(\"R-squared:\", r2)\n",
    "\n",
    "mae = mean_absolute_error(y_test_robust, y_pred)\n",
    "print(\"Mean Absolute Error:\", mae)\n",
    "\n",
    "mse = mean_squared_error(y_test_robust, y_pred)\n",
    "print(\"Mean Squared Error:\", mse)\n",
    "\n",
    "rmse = np.sqrt(mse)\n",
    "print(\"Root Mean Squared Error:\", rmse)"
   ]
  },
  {
   "cell_type": "markdown",
   "metadata": {},
   "source": [
    "##### Decision Trees"
   ]
  },
  {
   "cell_type": "code",
   "execution_count": 55,
   "metadata": {},
   "outputs": [
    {
     "name": "stdout",
     "output_type": "stream",
     "text": [
      "0.3285776459832679\n"
     ]
    }
   ],
   "source": [
    "# Initialize the Decision Tree\n",
    "dt = DecisionTreeRegressor(max_depth=3)\n",
    "\n",
    "# Train the Decision Tree on the training data\n",
    "dt.fit(x_train, y_train)\n",
    "\n",
    "# Make predictions on the test data\n",
    "y_pred = dt.predict(x_test)\n",
    "print(dt.score(x_test, y_test))"
   ]
  },
  {
   "cell_type": "markdown",
   "metadata": {},
   "source": [
    "Hyperparameter tuning"
   ]
  },
  {
   "cell_type": "code",
   "execution_count": 56,
   "metadata": {},
   "outputs": [
    {
     "name": "stdout",
     "output_type": "stream",
     "text": [
      "Best parameters: {'max_depth': 3, 'min_samples_split': 2}\n",
      "R-squared: 0.3285776459832681\n",
      "Mean Absolute Error: 7.290267551610571\n",
      "Mean Squared Error: 176.89240302625848\n",
      "Root Mean Squared Error: 13.300090339026216\n"
     ]
    }
   ],
   "source": [
    "# Define parameter grid\n",
    "param_grid = {\n",
    "    'max_depth': [None, 3, 5, 10, 15],  # Maximum depth of the tree\n",
    "    'min_samples_split': [2, 5, 10]  # Minimum number of samples required to split an internal node\n",
    "}\n",
    "\n",
    "# Instantiate GridSearchCV\n",
    "grid_search = GridSearchCV(DecisionTreeRegressor(random_state=42), param_grid, cv=5, scoring='neg_mean_squared_error')\n",
    "\n",
    "# Fit data\n",
    "grid_search.fit(x_train, y_train)\n",
    "\n",
    "# Access best model and parameters\n",
    "best_model = grid_search.best_estimator_\n",
    "best_params = grid_search.best_params_\n",
    "\n",
    "print(\"Best parameters:\", best_params)\n",
    "\n",
    "# Evaluate on test data\n",
    "y_pred = best_model.predict(x_test)\n",
    "\n",
    "r2 = r2_score(y_test, y_pred)\n",
    "print(\"R-squared:\", r2)\n",
    "\n",
    "mae = mean_absolute_error(y_test, y_pred)\n",
    "print(\"Mean Absolute Error:\", mae)\n",
    "\n",
    "mse = mean_squared_error(y_test, y_pred)\n",
    "print(\"Mean Squared Error:\", mse)\n",
    "\n",
    "rmse = np.sqrt(mse)\n",
    "print(\"Root Mean Squared Error:\", rmse)\n"
   ]
  },
  {
   "cell_type": "code",
   "execution_count": 57,
   "metadata": {},
   "outputs": [],
   "source": [
    "# # Plot tree\n",
    "# plt.figure(figsize=(10,10))\n",
    "# tree.plot_tree(dt, feature_names = x_train.columns,  \n",
    "#               filled=True)"
   ]
  },
  {
   "cell_type": "markdown",
   "metadata": {},
   "source": [
    "##### Random Forest"
   ]
  },
  {
   "cell_type": "code",
   "execution_count": 58,
   "metadata": {},
   "outputs": [
    {
     "name": "stdout",
     "output_type": "stream",
     "text": [
      "Train set R-squared: 0.6615446041941678\n",
      "Test set R-squared: 0.5471382892776837\n",
      "Mean Absolute Error: 6.58293283985023\n",
      "Mean Squared Error: 119.31058858707074\n",
      "Root Mean Squared Error: 10.922938642465715\n"
     ]
    }
   ],
   "source": [
    "# Initialize the Random Forest\n",
    "rfr = RandomForestRegressor(max_depth=7)\n",
    "\n",
    "# Train the Random Forest on the training data\n",
    "rfr.fit(x_train, y_train)\n",
    "\n",
    "# Print R-squared scores on training and test data\n",
    "r_squared_train = rfr.score(x_train, y_train)\n",
    "r_squared_test = rfr.score(x_test, y_test)\n",
    "\n",
    "print(f'Train set R-squared: {r_squared_train}')\n",
    "print(f'Test set R-squared: {r_squared_test}')\n",
    "\n",
    "# Make predictions on test data\n",
    "y_pred = rfr.predict(x_test)\n",
    "\n",
    "# Evaluate on test data\n",
    "mae = mean_absolute_error(y_test, y_pred)\n",
    "print(\"Mean Absolute Error:\", mae)\n",
    "\n",
    "mse = mean_squared_error(y_test, y_pred)\n",
    "print(\"Mean Squared Error:\", mse)\n",
    "\n",
    "rmse = np.sqrt(mse)\n",
    "print(\"Root Mean Squared Error:\", rmse)"
   ]
  },
  {
   "cell_type": "code",
   "execution_count": 59,
   "metadata": {},
   "outputs": [
    {
     "data": {
      "image/png": "[encoded data removed]",
      "text/plain": [
       "<Figure size 432x288 with 1 Axes>"
      ]
     },
     "metadata": {
      "needs_background": "light"
     },
     "output_type": "display_data"
    }
   ],
   "source": [
    "# Plot feature importance\n",
    "\n",
    "importance = rfr.feature_importances_\n",
    "idxs = np.argsort(importance)\n",
    "\n",
    "# Get the names of your columns\n",
    "column_names = x.columns\n",
    "\n",
    "plt.title(\"Feature Importance\")\n",
    "plt.barh(range(len(idxs)), importance[idxs], align=\"center\")\n",
    "plt.yticks(range(len(idxs)), [column_names[i] for i in idxs])  \n",
    "plt.xlabel(\"Random Forest Feature Importance\")\n",
    "plt.tight_layout()\n",
    "plt.show()"
   ]
  },
  {
   "cell_type": "markdown",
   "metadata": {},
   "source": [
    "Hyperparameter tuning"
   ]
  },
  {
   "cell_type": "code",
   "execution_count": 60,
   "metadata": {},
   "outputs": [
    {
     "name": "stdout",
     "output_type": "stream",
     "text": [
      "Best parameters: {'criterion': 'squared_error', 'max_depth': 3}\n",
      "R-squared: 0.40192251284383596\n",
      "Mean Absolute Error: 7.080633631034837\n",
      "Mean Squared Error: 157.5690223389906\n",
      "Root Mean Squared Error: 12.552650012606525\n"
     ]
    }
   ],
   "source": [
    "# Define parameter grid\n",
    "param_grid = {\n",
    "    'max_depth': [3, 5, 7, 9],  # Maximum depth of the tree\n",
    "    'criterion': ['squared_error', 'absolute_error', 'friedman_mse', 'poisson'] # The function to measure the quality of a split.\n",
    "}\n",
    "\n",
    "\n",
    "# Instantiate GridSearchCV\n",
    "grid_search = GridSearchCV(RandomForestRegressor(), param_grid, cv=3, scoring='neg_mean_squared_error')\n",
    "\n",
    "# Fit data\n",
    "grid_search.fit(x_train, y_train)\n",
    "\n",
    "# Access best model and parameters\n",
    "best_model = grid_search.best_estimator_\n",
    "best_params = grid_search.best_params_\n",
    "\n",
    "print(\"Best parameters:\", best_params)\n",
    "\n",
    "# Evaluate on test data\n",
    "y_pred = best_model.predict(x_test)\n",
    "\n",
    "r2 = r2_score(y_test, y_pred)\n",
    "print(\"R-squared:\", r2)\n",
    "\n",
    "mae = mean_absolute_error(y_test, y_pred)\n",
    "print(\"Mean Absolute Error:\", mae)\n",
    "\n",
    "mse = mean_squared_error(y_test, y_pred)\n",
    "print(\"Mean Squared Error:\", mse)\n",
    "\n",
    "rmse = np.sqrt(mse)\n",
    "print(\"Root Mean Squared Error:\", rmse)"
   ]
  },
  {
   "cell_type": "markdown",
   "metadata": {},
   "source": [
    "XGBoost\n",
    "- Hyperparameter tuning"
   ]
  },
  {
   "cell_type": "code",
   "execution_count": 61,
   "metadata": {},
   "outputs": [
    {
     "name": "stdout",
     "output_type": "stream",
     "text": [
      "Fitting 5 folds for each of 243 candidates, totalling 1215 fits\n",
      "Best parameters: {'colsample_bytree': 0.7, 'learning_rate': 0.01, 'max_depth': 3, 'n_estimators': 200, 'subsample': 0.7}\n",
      "R-squared: 0.42126657136436685\n",
      "Mean Absolute Error: 7.039227897851225\n",
      "Mean Squared Error: 152.47265196122987\n",
      "Root Mean Squared Error: 12.347981695857419\n"
     ]
    }
   ],
   "source": [
    "# Define parameter grid\n",
    "param_grid = {\n",
    "    'max_depth': [3, 5, 7], # Maximum depth of a tree.\n",
    "    'learning_rate': [0.01, 0.1, 0.3], # Step size shrinkage used in update to prevents overfitting. \n",
    "    'n_estimators': [100, 150, 200], # The number of trees in the boosting algorithm.\n",
    "    'subsample': [0.5, 0.7, 0.9], # Subsample ratio of the training instances. \n",
    "    'colsample_bytree': [0.5, 0.7, 0.9] # Subsample ratio of columns when constructing each tree.\n",
    "}\n",
    "\n",
    "# Instantiate XGBoost regressor\n",
    "xgb_model = xgb.XGBRegressor()\n",
    "\n",
    "# Instantiate GridSearchCV\n",
    "grid_search = GridSearchCV(estimator=xgb_model, param_grid=param_grid, cv=5, scoring='neg_mean_squared_error', verbose=1)\n",
    "\n",
    "# Fit the data\n",
    "grid_search.fit(x_train, y_train)\n",
    "\n",
    "# Access best model and parameters\n",
    "best_model = grid_search.best_estimator_\n",
    "best_params = grid_search.best_params_\n",
    "\n",
    "print(\"Best parameters:\", best_params)\n",
    "\n",
    "# Evaluate on test data\n",
    "y_pred = best_model.predict(x_test)\n",
    "\n",
    "r2 = r2_score(y_test, y_pred)\n",
    "print(\"R-squared:\", r2)\n",
    "\n",
    "mae = mean_absolute_error(y_test, y_pred)\n",
    "print(\"Mean Absolute Error:\", mae)\n",
    "\n",
    "mse = mean_squared_error(y_test, y_pred)\n",
    "print(\"Mean Squared Error:\", mse)\n",
    "\n",
    "rmse = np.sqrt(mse)\n",
    "print(\"Root Mean Squared Error:\", rmse)"
   ]
  },
  {
   "cell_type": "code",
   "execution_count": 64,
   "metadata": {},
   "outputs": [],
   "source": [
    "# Save the DataFrame to a CSV file\n",
    "\n",
    "df_streamlit = df_ml[['enrollment', 'actual_duration', 'AE_total_serious' ,'mean_age_imp', 'phase_encoded', 'dropout_rate']]\n",
    "#df_streamlit.to_csv('./data/df_streamlit.csv', index=False)"
   ]
  },
  {
   "cell_type": "code",
   "execution_count": 66,
   "metadata": {},
   "outputs": [
    {
     "name": "stdout",
     "output_type": "stream",
     "text": [
      "Train set R-squared: 0.658645877193237\n",
      "Test set R-squared: 0.5333195789097427\n",
      "Mean Absolute Error: 6.730543119936427\n",
      "Mean Squared Error: 122.95125510507596\n",
      "Root Mean Squared Error: 11.088338699060197\n"
     ]
    }
   ],
   "source": [
    "# Read ML file\n",
    "file_path = './data/df_streamlit.csv'\n",
    "df_streamlit = pd.read_csv(file_path)\n",
    "\n",
    "# Select variables\n",
    "x =  df_streamlit.drop(columns=['dropout_rate'], axis=1)\n",
    "y = df_streamlit['dropout_rate']\n",
    "\n",
    "#Validation chunk size\n",
    "val_size = 0.20\n",
    "\n",
    "#Split the data into chunks\n",
    "x_train, x_test, y_train, y_test = train_test_split(x, y, test_size=val_size, random_state = 42)\n",
    "\n",
    "# Initialize the Random Forest\n",
    "rfr = RandomForestRegressor(max_depth=7)\n",
    "\n",
    "# Train the Random Forest on the training data\n",
    "rfr.fit(x_train, y_train)\n",
    "\n",
    "# Print R-squared scores on training and test data\n",
    "r_squared_train = rfr.score(x_train, y_train)\n",
    "r_squared_test = rfr.score(x_test, y_test)\n",
    "\n",
    "print(f'Train set R-squared: {r_squared_train}')\n",
    "print(f'Test set R-squared: {r_squared_test}')\n",
    "\n",
    "# Make predictions on test data\n",
    "y_pred = rfr.predict(x_test)\n",
    "\n",
    "# Evaluate on test data\n",
    "mae = mean_absolute_error(y_test, y_pred)\n",
    "print(\"Mean Absolute Error:\", mae)\n",
    "\n",
    "mse = mean_squared_error(y_test, y_pred)\n",
    "print(\"Mean Squared Error:\", mse)\n",
    "\n",
    "rmse = np.sqrt(mse)\n",
    "print(\"Root Mean Squared Error:\", rmse)\n",
    "\n",
    "# Save the trained model using pickle\n",
    "with open('model.pkl', 'wb') as model_file:\n",
    "    pickle.dump(rfr, model_file)"
   ]
  },
  {
   "cell_type": "code",
   "execution_count": 73,
   "metadata": {},
   "outputs": [
    {
     "name": "stdout",
     "output_type": "stream",
     "text": [
      "Predicted dropout rate: 4.755609802898256\n"
     ]
    }
   ],
   "source": [
    "# Create a DataFrame with specific values\n",
    "test_data = pd.DataFrame({\n",
    "    'enrollment': [245],\n",
    "    'actual_duration': [5],\n",
    "    'AE_total_serious': [20],\n",
    "    'mean_age_imp': [41],\n",
    "    'phase_encoded'   : [0]\n",
    "})\n",
    "\n",
    "\n",
    "# Load the trained model\n",
    "file_path = './data/df_streamlit.csv'  \n",
    "df_streamlit = pd.read_csv(file_path)\n",
    "x = df_streamlit.drop(columns=['dropout_rate'], axis=1)\n",
    "y = df_streamlit['dropout_rate']\n",
    "rfr = RandomForestRegressor(max_depth=7)\n",
    "rfr.fit(x, y)\n",
    "\n",
    "# Make predictions on the test data\n",
    "dropout_rate_prediction = rfr.predict(test_data)\n",
    "\n",
    "print(\"Predicted dropout rate:\", dropout_rate_prediction[0])"
   ]
  }
 ],
 "metadata": {
  "kernelspec": {
   "display_name": "Python 3 (ipykernel)",
   "language": "python",
   "name": "python3"
  },
  "language_info": {
   "codemirror_mode": {
    "name": "ipython",
    "version": 3
   },
   "file_extension": ".py",
   "mimetype": "text/x-python",
   "name": "python",
   "nbconvert_exporter": "python",
   "pygments_lexer": "ipython3",
   "version": "3.9.7"
  }
 },
 "nbformat": 4,
 "nbformat_minor": 2
}
